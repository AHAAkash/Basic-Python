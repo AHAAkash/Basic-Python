{
  "nbformat": 4,
  "nbformat_minor": 0,
  "metadata": {
    "colab": {
      "provenance": []
    },
    "kernelspec": {
      "name": "python3",
      "display_name": "Python 3"
    },
    "language_info": {
      "name": "python"
    }
  },
  "cells": [
    {
      "cell_type": "markdown",
      "source": [
        "**Problem 1:Count the number of Vowels in a given string using Python**"
      ],
      "metadata": {
        "id": "z8XFKbkolY55"
      }
    },
    {
      "cell_type": "code",
      "execution_count": null,
      "metadata": {
        "colab": {
          "base_uri": "https://localhost:8080/"
        },
        "id": "CGGaWAixkjnX",
        "outputId": "24f8cf22-a38f-4e10-c261-e03ec71ffa6f"
      },
      "outputs": [
        {
          "output_type": "stream",
          "name": "stdout",
          "text": [
            "4\n"
          ]
        }
      ],
      "source": [
        "input_word = \"I am Akash\"\n",
        "def count_vowels(word):\n",
        "  vowels = \"aeiouAEIOU\"\n",
        "  count = 0\n",
        "  for letter in word:\n",
        "    if letter in vowels:\n",
        "      count += 1\n",
        "  return count\n",
        "\n",
        "print(count_vowels(input_word))"
      ]
    },
    {
      "cell_type": "code",
      "source": [
        "input_word = input(\"Enter a word: \")\n",
        "def count_vowels(word):\n",
        "  vowels = \"aeiouAEIOU\"\n",
        "  # Use a generator expression to iterate through each letter in the input 'word'\n",
        "  # For each letter, check if it is present in the 'vowels' string\n",
        "  # If the letter is a vowel, the expression yields 1\n",
        "  # The sum() function then adds up all the 1s yielded by the generator expression, effectively counting the vowels\n",
        "  return sum( 1 for letter in word if letter in vowels)\n",
        "\n",
        "print(count_vowels(input_word))"
      ],
      "metadata": {
        "colab": {
          "base_uri": "https://localhost:8080/"
        },
        "id": "oEtaxoMfnZuZ",
        "outputId": "e8a7956d-431c-4f31-c9cf-a6b8122c3045"
      },
      "execution_count": null,
      "outputs": [
        {
          "output_type": "stream",
          "name": "stdout",
          "text": [
            "Enter a word: My name is akash\n",
            "5\n"
          ]
        }
      ]
    },
    {
      "cell_type": "markdown",
      "source": [],
      "metadata": {
        "id": "dZip-8K3lWey"
      }
    },
    {
      "cell_type": "markdown",
      "source": [
        "**Problem 2: Write a function to reverse a string using Python**"
      ],
      "metadata": {
        "id": "ry17eJWStYyZ"
      }
    },
    {
      "cell_type": "code",
      "metadata": {
        "colab": {
          "base_uri": "https://localhost:8080/"
        },
        "id": "027eafa4",
        "outputId": "fa327be1-3db6-43df-b73a-d17cdd9d65da"
      },
      "source": [
        "input_word = input(\"Enter a word: \")\n",
        "def reverse_string(word):\n",
        "  return word[::-1]\n",
        "\n",
        "print(reverse_string(input_word))"
      ],
      "execution_count": null,
      "outputs": [
        {
          "output_type": "stream",
          "name": "stdout",
          "text": [
            "Enter a word: aksashdk d\n",
            "d kdhsaska\n"
          ]
        }
      ]
    },
    {
      "cell_type": "markdown",
      "source": [
        "**Problem 3:Find the FACTORIAL of a given number using Recursion**"
      ],
      "metadata": {
        "id": "TFGSFNp_tXZR"
      }
    },
    {
      "cell_type": "code",
      "source": [
        "n = int(input(\"Enter a number: \"))\n",
        "def factorial(n):\n",
        "  if n==0 or n==1:\n",
        "    return 1\n",
        "  return n * factorial(n-1) #recursive call\n",
        "factorial(n)"
      ],
      "metadata": {
        "colab": {
          "base_uri": "https://localhost:8080/"
        },
        "id": "O2RohM9muf7y",
        "outputId": "ea64b53d-b3b6-4e1f-c2d7-5080061e4f6c"
      },
      "execution_count": null,
      "outputs": [
        {
          "name": "stdout",
          "output_type": "stream",
          "text": [
            "Enter a number: 5\n"
          ]
        },
        {
          "output_type": "execute_result",
          "data": {
            "text/plain": [
              "120"
            ]
          },
          "metadata": {},
          "execution_count": 12
        }
      ]
    },
    {
      "cell_type": "markdown",
      "source": [
        "**Problem 4:Check if a given number is a prime?**"
      ],
      "metadata": {
        "id": "bI2HlUMY0KrY"
      }
    },
    {
      "cell_type": "code",
      "source": [
        "n = int(input(\"Enter a number: \"))\n",
        "def is_Prime(n):\n",
        "  if n<2:\n",
        "    return False\n",
        "  for i in range(2, int(n**0.5)+1):\n",
        "    if n%i==0:\n",
        "      return False\n",
        "  return True\n",
        "\n",
        "print(is_Prime(n))\n"
      ],
      "metadata": {
        "colab": {
          "base_uri": "https://localhost:8080/"
        },
        "id": "waA3Nv4t0Ti2",
        "outputId": "3ac0f9f6-0046-4e59-85a9-2e12bf9d31c0"
      },
      "execution_count": null,
      "outputs": [
        {
          "output_type": "stream",
          "name": "stdout",
          "text": [
            "Enter a number: 6\n",
            "False\n"
          ]
        }
      ]
    },
    {
      "cell_type": "markdown",
      "source": [
        "**Problem 5:Find the most frequent element in a list**"
      ],
      "metadata": {
        "id": "ayBEh8z1c6Gl"
      }
    },
    {
      "cell_type": "code",
      "source": [
        "from collections import Counter\n",
        "mylist = [1,2,3,5,5,4,1,5]\n",
        "def most_frequent(mylist):\n",
        "  return Counter(mylist).most_common()[0][0]\n",
        "\n",
        "print(most_frequent(mylist))\n"
      ],
      "metadata": {
        "colab": {
          "base_uri": "https://localhost:8080/"
        },
        "id": "DApGXpB7c_aA",
        "outputId": "aa2c5ce8-e280-402e-b461-8a5f64990f92"
      },
      "execution_count": null,
      "outputs": [
        {
          "output_type": "stream",
          "name": "stdout",
          "text": [
            "5\n"
          ]
        }
      ]
    },
    {
      "cell_type": "code",
      "metadata": {
        "colab": {
          "base_uri": "https://localhost:8080/"
        },
        "id": "4b994c8e",
        "outputId": "e2c11b61-c81d-4671-a69f-8f6178b5e598"
      },
      "source": [
        "def most_frequent_manual(mylist):\n",
        "  frequency = {}\n",
        "  for item in mylist:\n",
        "    if item in frequency:\n",
        "      frequency[item] += 1\n",
        "    else:\n",
        "      frequency[item] = 1\n",
        "\n",
        "  most_frequent_item = None\n",
        "  highest_frequency = -1\n",
        "\n",
        "  for item, count in frequency.items():\n",
        "    if count > highest_frequency:\n",
        "      highest_frequency = count\n",
        "      most_frequent_item = item\n",
        "  return most_frequent_item\n",
        "\n",
        "mylist = [1,2,3,5,5,4,1,5]\n",
        "print(most_frequent_manual(mylist))"
      ],
      "execution_count": null,
      "outputs": [
        {
          "output_type": "stream",
          "name": "stdout",
          "text": [
            "5\n"
          ]
        }
      ]
    },
    {
      "cell_type": "code",
      "metadata": {
        "colab": {
          "base_uri": "https://localhost:8080/"
        },
        "id": "c1e48d9f",
        "outputId": "3f9aae3a-bf0e-4672-c514-23220928354c"
      },
      "source": [],
      "execution_count": null,
      "outputs": [
        {
          "output_type": "stream",
          "name": "stdout",
          "text": [
            "5\n"
          ]
        }
      ]
    },
    {
      "cell_type": "code",
      "metadata": {
        "id": "1ce86723"
      },
      "source": [],
      "execution_count": null,
      "outputs": []
    }
  ]
}