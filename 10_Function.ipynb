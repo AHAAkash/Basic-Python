{
  "nbformat": 4,
  "nbformat_minor": 0,
  "metadata": {
    "colab": {
      "provenance": [],
      "authorship_tag": "ABX9TyMvb/8G2HBh3C+NfCR/Uhiw",
      "include_colab_link": true
    },
    "kernelspec": {
      "name": "python3",
      "display_name": "Python 3"
    },
    "language_info": {
      "name": "python"
    }
  },
  "cells": [
    {
      "cell_type": "markdown",
      "metadata": {
        "id": "view-in-github",
        "colab_type": "text"
      },
      "source": [
        "<a href=\"https://colab.research.google.com/github/AHAAkash/Basic-Python/blob/main/10_Function.ipynb\" target=\"_parent\"><img src=\"https://colab.research.google.com/assets/colab-badge.svg\" alt=\"Open In Colab\"/></a>"
      ]
    },
    {
      "cell_type": "markdown",
      "source": [
        "# Python Functions\n",
        "1.  A function is a block of code which only runs when it is called.\n",
        "2.  You can pass data, known as parameters, into a function.\n",
        "1.   A function can return data as a result.\n",
        "\n",
        "\n",
        "\n",
        "\n",
        "\n",
        "\n"
      ],
      "metadata": {
        "id": "QO43ahHtPPs3"
      }
    },
    {
      "cell_type": "code",
      "execution_count": 1,
      "metadata": {
        "id": "XYZEJX2pNZOW"
      },
      "outputs": [],
      "source": [
        "def my_function():\n",
        "  print(\"Hello from a function\")"
      ]
    },
    {
      "cell_type": "code",
      "source": [
        "#x = 10\n",
        "def even_or_odd(x):\n",
        "    if x %2 == 0:\n",
        "        print(\"Even\")\n",
        "    else:\n",
        "        print(\"Odd\")\n",
        "\n",
        "even_or_odd(13)"
      ],
      "metadata": {
        "colab": {
          "base_uri": "https://localhost:8080/"
        },
        "id": "UlerZ1mfQPsu",
        "outputId": "d0c5d591-0bdc-4937-d3f4-c435463f798a"
      },
      "execution_count": 2,
      "outputs": [
        {
          "output_type": "stream",
          "name": "stdout",
          "text": [
            "Odd\n"
          ]
        }
      ]
    },
    {
      "cell_type": "code",
      "source": [
        "# Factorial\n",
        "def fact_number(n):\n",
        "    fact = 1\n",
        "    for i in range(1,n+1):\n",
        "        fact = fact *i\n",
        "    return fact\n",
        "\n",
        "fact_number(5)"
      ],
      "metadata": {
        "colab": {
          "base_uri": "https://localhost:8080/"
        },
        "id": "cFHoedVcQWUN",
        "outputId": "b735fde3-cec6-4c75-85b5-e43068914d55"
      },
      "execution_count": 3,
      "outputs": [
        {
          "output_type": "execute_result",
          "data": {
            "text/plain": [
              "120"
            ]
          },
          "metadata": {},
          "execution_count": 3
        }
      ]
    },
    {
      "cell_type": "code",
      "source": [
        "# Sum of all natural numbers till the number provided\n",
        "def sum_numbers(n):\n",
        "    num = 0\n",
        "    for i in range(1,n+1):\n",
        "        num = num+i\n",
        "    return num\n",
        "\n",
        "sum_numbers(10)"
      ],
      "metadata": {
        "colab": {
          "base_uri": "https://localhost:8080/"
        },
        "id": "J_QUF-GyQnvc",
        "outputId": "13d0bba2-35d5-4813-d9ec-82f32c1dc203"
      },
      "execution_count": 6,
      "outputs": [
        {
          "output_type": "execute_result",
          "data": {
            "text/plain": [
              "55"
            ]
          },
          "metadata": {},
          "execution_count": 6
        }
      ]
    },
    {
      "cell_type": "code",
      "source": [
        "def func_1(name, age = 30):\n",
        "    print(\"name: \", name)\n",
        "    print(\"age: \", age)\n",
        "\n",
        "func_1(\"Ravi\", 25)"
      ],
      "metadata": {
        "colab": {
          "base_uri": "https://localhost:8080/"
        },
        "id": "hoALrWnIQxrV",
        "outputId": "664a694f-4a42-4c9d-d53f-11fea4c2e771"
      },
      "execution_count": 8,
      "outputs": [
        {
          "output_type": "stream",
          "name": "stdout",
          "text": [
            "name:  Ravi\n",
            "age:  25\n"
          ]
        }
      ]
    },
    {
      "cell_type": "code",
      "source": [
        "func_1(\"Ravi\")"
      ],
      "metadata": {
        "colab": {
          "base_uri": "https://localhost:8080/"
        },
        "id": "Yhb2dB52RKcM",
        "outputId": "42521a21-727b-4c1e-d0e7-570286217f2e"
      },
      "execution_count": 9,
      "outputs": [
        {
          "output_type": "stream",
          "name": "stdout",
          "text": [
            "name:  Ravi\n",
            "age:  30\n"
          ]
        }
      ]
    },
    {
      "cell_type": "markdown",
      "source": [
        "# Passing a List as an Argument\n",
        "You can send any data types of argument to a function (string, number, list, dictionary etc.), and it will be treated as the same data type inside the function.\n",
        "\n",
        "E.g. if you send a List as an argument, it will still be a List when it reaches the function:"
      ],
      "metadata": {
        "id": "igmBmGEnRS7T"
      }
    },
    {
      "cell_type": "code",
      "source": [
        "def my_function(food):\n",
        "  for x in food:\n",
        "    print(x)\n",
        "\n",
        "fruits = [\"apple\", \"banana\", \"cherry\"]\n",
        "my_function(fruits)"
      ],
      "metadata": {
        "colab": {
          "base_uri": "https://localhost:8080/"
        },
        "id": "uEpkijAiRXhM",
        "outputId": "fb22b1f9-b72c-4f92-bf25-707ef9cc9975"
      },
      "execution_count": 10,
      "outputs": [
        {
          "output_type": "stream",
          "name": "stdout",
          "text": [
            "apple\n",
            "banana\n",
            "cherry\n"
          ]
        }
      ]
    },
    {
      "cell_type": "markdown",
      "source": [
        "# The pass Statement\n",
        "Function definitions cannot be empty, but if you for some reason have a function definition with no content, put in the **pass** statement to avoid getting an error."
      ],
      "metadata": {
        "id": "34f_Vy1hRlAs"
      }
    },
    {
      "cell_type": "code",
      "source": [
        "def myfunction():\n",
        "  pass"
      ],
      "metadata": {
        "id": "RXH4CLYyRss8"
      },
      "execution_count": 11,
      "outputs": []
    },
    {
      "cell_type": "markdown",
      "source": [
        "# Python Lambda\n",
        "A lambda function is a small anonymous function.\n",
        "\n",
        "A lambda function can take any number of arguments, but can only have one expression.\n",
        "\n",
        "# Syntax\n",
        "lambda arguments : expression\n",
        "\n",
        "The expression is executed and the result is returned:"
      ],
      "metadata": {
        "id": "N4wBJ0AMSAYb"
      }
    },
    {
      "cell_type": "code",
      "source": [
        "#  Create a lambda function that adds 10 to the number passed as an arguement, and print the result\n",
        "x = lambda a : a + 20\n",
        "print(x(5))"
      ],
      "metadata": {
        "colab": {
          "base_uri": "https://localhost:8080/"
        },
        "id": "qT4px0AYRymF",
        "outputId": "d715b0c5-51c9-4860-947d-df7f24121964"
      },
      "execution_count": 13,
      "outputs": [
        {
          "output_type": "stream",
          "name": "stdout",
          "text": [
            "25\n"
          ]
        }
      ]
    },
    {
      "cell_type": "code",
      "source": [
        "# Create a lambda function that checks a number is even or odd\n",
        "x = lambda a: \"even\" if a % 2==0 else \"odd\"\n",
        "\n",
        "print(x(6))"
      ],
      "metadata": {
        "colab": {
          "base_uri": "https://localhost:8080/"
        },
        "id": "HOpv-YfxXgq5",
        "outputId": "904219f8-0d3a-44b3-c30d-eb6bfead9075"
      },
      "execution_count": 14,
      "outputs": [
        {
          "output_type": "stream",
          "name": "stdout",
          "text": [
            "even\n"
          ]
        }
      ]
    },
    {
      "cell_type": "code",
      "source": [
        "# Create a lambda function that adds two integers\n",
        "x = lambda a,b: a+b\n",
        "print(x(5,4))"
      ],
      "metadata": {
        "colab": {
          "base_uri": "https://localhost:8080/"
        },
        "id": "79sD7iL6Xkci",
        "outputId": "524f1b96-4264-4a91-8dae-2017e2bd9083"
      },
      "execution_count": 15,
      "outputs": [
        {
          "output_type": "stream",
          "name": "stdout",
          "text": [
            "9\n"
          ]
        }
      ]
    }
  ]
}