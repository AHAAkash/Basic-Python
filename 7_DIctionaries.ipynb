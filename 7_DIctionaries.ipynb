{
  "nbformat": 4,
  "nbformat_minor": 0,
  "metadata": {
    "colab": {
      "provenance": [],
      "authorship_tag": "ABX9TyPiSB9eNIHR8e70nzcdgZ0e",
      "include_colab_link": true
    },
    "kernelspec": {
      "name": "python3",
      "display_name": "Python 3"
    },
    "language_info": {
      "name": "python"
    }
  },
  "cells": [
    {
      "cell_type": "markdown",
      "metadata": {
        "id": "view-in-github",
        "colab_type": "text"
      },
      "source": [
        "<a href=\"https://colab.research.google.com/github/AHAAkash/Basic-Python/blob/main/7_DIctionaries.ipynb\" target=\"_parent\"><img src=\"https://colab.research.google.com/assets/colab-badge.svg\" alt=\"Open In Colab\"/></a>"
      ]
    },
    {
      "cell_type": "markdown",
      "source": [
        "# Dictionary\n",
        "\n",
        "1.   Dictionary stores element as keys and value pairs\n",
        "2.   The key is like an index, its always unique & immutable\n",
        "\n",
        "1.   The values are the objects that contain information\n",
        "2.   Values are accessed using their keys\n",
        "\n",
        "1.   Each key is followed by a value separated by a colon\n",
        "2.   The values can be immutable, mutable, & duplicates. Each key and value pair is separated by a comma enclosed inside curly brackets\n",
        "\n",
        "\n",
        "\n",
        "\n",
        "\n",
        "\n",
        "\n",
        "\n",
        "\n",
        "\n",
        "\n",
        "\n"
      ],
      "metadata": {
        "id": "s5ZGmQCDqsf1"
      }
    },
    {
      "cell_type": "code",
      "execution_count": 2,
      "metadata": {
        "colab": {
          "base_uri": "https://localhost:8080/",
          "height": 35
        },
        "id": "16Y9Q-_7qYIj",
        "outputId": "9d6f389f-30bd-49e6-faf6-ea10e02dcd87"
      },
      "outputs": [
        {
          "output_type": "execute_result",
          "data": {
            "text/plain": [
              "'INR'"
            ],
            "application/vnd.google.colaboratory.intrinsic+json": {
              "type": "string"
            }
          },
          "metadata": {},
          "execution_count": 2
        }
      ],
      "source": [
        "# Creating a dictionary\n",
        "d1 = {\"Bangladesh\": \"INR\", \"USA\": \"USD\", \"Hong Kong\": \"HKD\"}\n",
        "# Accessing value using keys\n",
        "d1[\"Bangladesh\"]"
      ]
    },
    {
      "cell_type": "code",
      "source": [
        "# Replacing the value for a key in a dictionary\n",
        "\n",
        "d1[\"Bangladesh\"] = \"NEW\"\n",
        "d1"
      ],
      "metadata": {
        "colab": {
          "base_uri": "https://localhost:8080/"
        },
        "id": "YyPQ-Gg9rk2Y",
        "outputId": "e11eb6dd-e3a0-4b3a-8a1a-0f919f813568"
      },
      "execution_count": 3,
      "outputs": [
        {
          "output_type": "execute_result",
          "data": {
            "text/plain": [
              "{'Bangladesh': 'NEW', 'USA': 'USD', 'Hong Kong': 'HKD'}"
            ]
          },
          "metadata": {},
          "execution_count": 3
        }
      ]
    },
    {
      "cell_type": "code",
      "source": [
        "d1[\"Japan\"] = \"YEN\""
      ],
      "metadata": {
        "id": "ecD3ZFGqrsa9"
      },
      "execution_count": 4,
      "outputs": []
    },
    {
      "cell_type": "code",
      "source": [
        "d1"
      ],
      "metadata": {
        "colab": {
          "base_uri": "https://localhost:8080/"
        },
        "id": "Ew5EXLYprv_-",
        "outputId": "e3989ec3-f8ae-42d8-e3fa-9501dc7d4d87"
      },
      "execution_count": 5,
      "outputs": [
        {
          "output_type": "execute_result",
          "data": {
            "text/plain": [
              "{'Bangladesh': 'NEW', 'USA': 'USD', 'Hong Kong': 'HKD', 'Japan': 'YEN'}"
            ]
          },
          "metadata": {},
          "execution_count": 5
        }
      ]
    },
    {
      "cell_type": "code",
      "source": [
        "# Inserting a new key-value pair\n",
        "d1[\"Japan\"] = \"YEN\"\n",
        "d1"
      ],
      "metadata": {
        "colab": {
          "base_uri": "https://localhost:8080/"
        },
        "id": "GDxsFRk6r3bP",
        "outputId": "b5d218d4-d88b-4f34-e9d8-1f4b9b4b36eb"
      },
      "execution_count": 6,
      "outputs": [
        {
          "output_type": "execute_result",
          "data": {
            "text/plain": [
              "{'Bangladesh': 'NEW', 'USA': 'USD', 'Hong Kong': 'HKD', 'Japan': 'YEN'}"
            ]
          },
          "metadata": {},
          "execution_count": 6
        }
      ]
    },
    {
      "cell_type": "code",
      "source": [
        "# Deleting a key value pair\n",
        "del d1[\"Japan\"]\n",
        "d1"
      ],
      "metadata": {
        "colab": {
          "base_uri": "https://localhost:8080/"
        },
        "id": "mRZ6ucX8r5Zl",
        "outputId": "8b35375a-9c90-4b41-f962-cf9f4f034641"
      },
      "execution_count": 8,
      "outputs": [
        {
          "output_type": "execute_result",
          "data": {
            "text/plain": [
              "{'Bangladesh': 'NEW', 'USA': 'USD', 'Hong Kong': 'HKD'}"
            ]
          },
          "metadata": {},
          "execution_count": 8
        }
      ]
    },
    {
      "cell_type": "code",
      "source": [
        "# Sorting a dictionary\n",
        "sorted(d1)"
      ],
      "metadata": {
        "colab": {
          "base_uri": "https://localhost:8080/"
        },
        "id": "xFVa3il3sDoH",
        "outputId": "bbb308df-6f0e-40b5-cf38-a99549ad6c3c"
      },
      "execution_count": 9,
      "outputs": [
        {
          "output_type": "execute_result",
          "data": {
            "text/plain": [
              "['Bangladesh', 'Hong Kong', 'USA']"
            ]
          },
          "metadata": {},
          "execution_count": 9
        }
      ]
    },
    {
      "cell_type": "code",
      "source": [
        "# values() method\n",
        "d1.values()"
      ],
      "metadata": {
        "colab": {
          "base_uri": "https://localhost:8080/"
        },
        "id": "QYl6dHoEsHT-",
        "outputId": "c99ed267-f958-4aff-a64c-4940250d8ad4"
      },
      "execution_count": 10,
      "outputs": [
        {
          "output_type": "execute_result",
          "data": {
            "text/plain": [
              "dict_values(['NEW', 'USD', 'HKD'])"
            ]
          },
          "metadata": {},
          "execution_count": 10
        }
      ]
    },
    {
      "cell_type": "code",
      "source": [
        "# keys() method\n",
        "\n",
        "d1.keys()"
      ],
      "metadata": {
        "colab": {
          "base_uri": "https://localhost:8080/"
        },
        "id": "jrwPEMHzsc4F",
        "outputId": "ecf2d661-cb4e-48ff-c390-bf8711a8dee5"
      },
      "execution_count": 11,
      "outputs": [
        {
          "output_type": "execute_result",
          "data": {
            "text/plain": [
              "dict_keys(['Bangladesh', 'USA', 'Hong Kong'])"
            ]
          },
          "metadata": {},
          "execution_count": 11
        }
      ]
    },
    {
      "cell_type": "code",
      "source": [
        "# get() method\n",
        "\n",
        "d1.get('Bangladesh')"
      ],
      "metadata": {
        "id": "XcxuubWUsgE2"
      },
      "execution_count": null,
      "outputs": []
    },
    {
      "cell_type": "code",
      "source": [
        "# update() method\n",
        "\n",
        "d1.update({\"Bangladesh\": \"TK\"})\n",
        "d1[\"Bangladesh\"] = \"TK\"\n",
        "\n",
        "d1"
      ],
      "metadata": {
        "colab": {
          "base_uri": "https://localhost:8080/"
        },
        "id": "AmWaWNKBsopK",
        "outputId": "55c02bea-042d-4f41-e6b1-ff161b211044"
      },
      "execution_count": 12,
      "outputs": [
        {
          "output_type": "execute_result",
          "data": {
            "text/plain": [
              "{'Bangladesh': 'TK', 'USA': 'USD', 'Hong Kong': 'HKD'}"
            ]
          },
          "metadata": {},
          "execution_count": 12
        }
      ]
    },
    {
      "cell_type": "code",
      "source": [
        "myfamily = {\n",
        "  \"child1\" : {\n",
        "    \"name\" : \"Emil\",\n",
        "    \"year\" : 2004\n",
        "  },\n",
        "  \"child2\" : {\n",
        "    \"name\" : \"Tobias\",\n",
        "    \"year\" : 2007\n",
        "  },\n",
        "  \"child3\" : {\n",
        "    \"name\" : \"Linus\",\n",
        "    \"year\" : 2011\n",
        "  }\n",
        "}"
      ],
      "metadata": {
        "id": "RCYX5tMetVbv"
      },
      "execution_count": 13,
      "outputs": []
    },
    {
      "cell_type": "code",
      "source": [
        "child1 = {\n",
        "  \"name\" : \"Emil\",\n",
        "  \"year\" : 2004\n",
        "}\n",
        "child2 = {\n",
        "  \"name\" : \"Tobias\",\n",
        "  \"year\" : 2007\n",
        "}\n",
        "child3 = {\n",
        "  \"name\" : \"Linus\",\n",
        "  \"year\" : 2011\n",
        "}\n",
        "\n",
        "myfamily = {\n",
        "  \"child1\" : child1,\n",
        "  \"child2\" : child2,\n",
        "  \"child3\" : child3\n",
        "}"
      ],
      "metadata": {
        "id": "j7ZLpyrntYpH"
      },
      "execution_count": 15,
      "outputs": []
    },
    {
      "cell_type": "code",
      "source": [
        "print(myfamily[\"child2\"][\"name\"])"
      ],
      "metadata": {
        "colab": {
          "base_uri": "https://localhost:8080/"
        },
        "id": "1afgDOTzteZ4",
        "outputId": "277cfa84-88b3-402c-b01e-04ef837af315"
      },
      "execution_count": 16,
      "outputs": [
        {
          "output_type": "stream",
          "name": "stdout",
          "text": [
            "Tobias\n"
          ]
        }
      ]
    },
    {
      "cell_type": "markdown",
      "source": [],
      "metadata": {
        "id": "HWKXJaEnrkh3"
      }
    }
  ]
}