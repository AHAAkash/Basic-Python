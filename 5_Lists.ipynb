{
  "nbformat": 4,
  "nbformat_minor": 0,
  "metadata": {
    "colab": {
      "provenance": [],
      "authorship_tag": "ABX9TyNPjvcoXbgMZBO3j3w4w4vE",
      "include_colab_link": true
    },
    "kernelspec": {
      "name": "python3",
      "display_name": "Python 3"
    },
    "language_info": {
      "name": "python"
    }
  },
  "cells": [
    {
      "cell_type": "markdown",
      "metadata": {
        "id": "view-in-github",
        "colab_type": "text"
      },
      "source": [
        "<a href=\"https://colab.research.google.com/github/AHAAkash/Basic-Python/blob/main/5_Lists.ipynb\" target=\"_parent\"><img src=\"https://colab.research.google.com/assets/colab-badge.svg\" alt=\"Open In Colab\"/></a>"
      ]
    },
    {
      "cell_type": "markdown",
      "source": [
        "## **Lists**\n",
        "*   Lists are ordered sequence of mixed data types\n",
        "*   Lists are written in comma separated elements within square brackets\n",
        "*   Lists are used to store multiple items in a single variable.\n",
        "*   Lists are one of 4 built-in data types in Python used to store collections of data, the other 3 are Tuple, Set, and Dictionary, all with different qualities and usage.\n",
        "\n",
        "*> Lists are created using square brackets:\n",
        "\n",
        "\n"
      ],
      "metadata": {
        "id": "A7ORIbRSC8L8"
      }
    },
    {
      "cell_type": "code",
      "execution_count": 1,
      "metadata": {
        "id": "hD_m87mAT6Do",
        "colab": {
          "base_uri": "https://localhost:8080/"
        },
        "outputId": "f933bee3-c605-4ef4-ef71-64d007ca5838"
      },
      "outputs": [
        {
          "output_type": "stream",
          "name": "stdout",
          "text": [
            "['apple', 'banana', 'cherry']\n"
          ]
        }
      ],
      "source": [
        "#Create a List\n",
        "thislist = [\"apple\", \"banana\", \"cherry\"]\n",
        "print(thislist)"
      ]
    },
    {
      "cell_type": "code",
      "source": [
        "list1 = [\"Bangladesh\", 5, \"Dhaka\"]\n",
        "list1"
      ],
      "metadata": {
        "colab": {
          "base_uri": "https://localhost:8080/"
        },
        "id": "MyxuwmIhDsOS",
        "outputId": "456ae9a5-8817-4e06-f9c5-19638e7f9062"
      },
      "execution_count": 2,
      "outputs": [
        {
          "output_type": "execute_result",
          "data": {
            "text/plain": [
              "['Bangladesh', 5, 'Dhaka']"
            ]
          },
          "metadata": {},
          "execution_count": 2
        }
      ]
    },
    {
      "cell_type": "code",
      "source": [
        "print(len(list1)) #length  ---->>   len()\n",
        "print(type(list1))\n",
        "\n",
        "\"\"\"\n",
        "List Length\n",
        "To determine how many items a list has, use the len() function\n",
        "\n",
        "\"\"\""
      ],
      "metadata": {
        "colab": {
          "base_uri": "https://localhost:8080/",
          "height": 70
        },
        "id": "Uh71E_quD59m",
        "outputId": "02807b8b-bb64-4460-cb81-60e7dd26dd0e"
      },
      "execution_count": 7,
      "outputs": [
        {
          "output_type": "stream",
          "name": "stdout",
          "text": [
            "3\n",
            "<class 'list'>\n"
          ]
        },
        {
          "output_type": "execute_result",
          "data": {
            "text/plain": [
              "'\\nList Length\\nTo determine how many items a list has, use the len() function\\n\\n'"
            ],
            "application/vnd.google.colaboratory.intrinsic+json": {
              "type": "string"
            }
          },
          "metadata": {},
          "execution_count": 7
        }
      ]
    },
    {
      "cell_type": "markdown",
      "source": [
        "# **List Items**\n",
        "-->> List items are ordered, changeable, and allow duplicate values.\n",
        "\n",
        "-->> List items are indexed, the first item has index [0], the second item has index [1] etc.\n",
        "\n",
        "\n",
        "\n",
        "# **Ordered**\n",
        "When we say that lists are ordered, it means that the items have a defined order, and that order will not change.\n",
        "\n",
        "If you add new items to a list, the new items will be placed at the end of the list.\n",
        "\n",
        "# **Changeable**\n",
        "The list is changeable, meaning that we can change, add, and remove items in a list after it has been created.\n",
        "\n",
        "# **Allow Duplicates**\n",
        "Since lists are indexed, lists can have items with the same value:"
      ],
      "metadata": {
        "id": "CrskJkoaEXPS"
      }
    },
    {
      "cell_type": "code",
      "source": [
        "thislist = [\"apple\", \"banana\", \"cherry\", \"apple\", \"cherry\"]\n",
        "print(thislist)"
      ],
      "metadata": {
        "colab": {
          "base_uri": "https://localhost:8080/"
        },
        "id": "ruW6FcBPE4Jj",
        "outputId": "05e07fb1-a840-435d-a525-6918e2a365b2"
      },
      "execution_count": 6,
      "outputs": [
        {
          "output_type": "stream",
          "name": "stdout",
          "text": [
            "['apple', 'banana', 'cherry', 'apple', 'cherry']\n"
          ]
        }
      ]
    },
    {
      "cell_type": "markdown",
      "source": [
        "# The list() Constructor\n",
        "It is also possible to use the list() constructor when creating a new list."
      ],
      "metadata": {
        "id": "Cn-eUIAsFfsD"
      }
    },
    {
      "cell_type": "code",
      "source": [
        "thislist = list((\"apple\", \"banana\", \"cherry\")) # note the double round-brackets\n",
        "print(thislist)"
      ],
      "metadata": {
        "colab": {
          "base_uri": "https://localhost:8080/"
        },
        "id": "QhCvfP7PFpIy",
        "outputId": "02db3dae-acb6-4e98-9091-fa3fecde1d90"
      },
      "execution_count": 8,
      "outputs": [
        {
          "output_type": "stream",
          "name": "stdout",
          "text": [
            "['apple', 'banana', 'cherry']\n"
          ]
        }
      ]
    },
    {
      "cell_type": "code",
      "source": [
        "thislist = [\"apple\", \"banana\", \"cherry\"]\n",
        "print(thislist[1])"
      ],
      "metadata": {
        "colab": {
          "base_uri": "https://localhost:8080/"
        },
        "id": "zEgHNuNfF4fW",
        "outputId": "08f64031-ff79-48ad-abd3-c33c9092cb38"
      },
      "execution_count": 9,
      "outputs": [
        {
          "output_type": "stream",
          "name": "stdout",
          "text": [
            "banana\n"
          ]
        }
      ]
    },
    {
      "cell_type": "markdown",
      "source": [
        "# Negative Indexing\n",
        "Negative indexing means start from the end\n",
        "\n",
        "-1 refers to the last item, -2 refers to the second last item etc."
      ],
      "metadata": {
        "id": "MEOAMPQiGBdZ"
      }
    },
    {
      "cell_type": "code",
      "source": [
        "print(thislist[-1])"
      ],
      "metadata": {
        "colab": {
          "base_uri": "https://localhost:8080/"
        },
        "id": "hXQag_XfGGFQ",
        "outputId": "97afeb19-3319-47ea-dd88-a36847416056"
      },
      "execution_count": 10,
      "outputs": [
        {
          "output_type": "stream",
          "name": "stdout",
          "text": [
            "cherry\n"
          ]
        }
      ]
    },
    {
      "cell_type": "markdown",
      "source": [
        "# Range of Indexes\n",
        "You can specify a range of indexes by specifying where to start and where to end the range.\n",
        "\n",
        "When specifying a range, the return value will be a new list with the specified items."
      ],
      "metadata": {
        "id": "EaFkiWeXGOxt"
      }
    },
    {
      "cell_type": "code",
      "source": [
        "thislist = [\"apple\", \"banana\", \"cherry\", \"orange\", \"kiwi\", \"melon\", \"mango\"]\n",
        "print(thislist[2:5])"
      ],
      "metadata": {
        "colab": {
          "base_uri": "https://localhost:8080/"
        },
        "id": "nBOYb0lbGRMD",
        "outputId": "65c81e30-8202-449e-91e8-bccc21fb9670"
      },
      "execution_count": 11,
      "outputs": [
        {
          "output_type": "stream",
          "name": "stdout",
          "text": [
            "['cherry', 'orange', 'kiwi']\n"
          ]
        }
      ]
    },
    {
      "cell_type": "code",
      "source": [
        "#This example returns the items from the beginning to, but NOT including, \"kiwi\":\n",
        "print(thislist[:4])"
      ],
      "metadata": {
        "colab": {
          "base_uri": "https://localhost:8080/"
        },
        "id": "WlKZ7knSGfcz",
        "outputId": "2272ae09-8de5-4d73-e854-46a29d61364f"
      },
      "execution_count": 12,
      "outputs": [
        {
          "output_type": "stream",
          "name": "stdout",
          "text": [
            "['apple', 'banana', 'cherry', 'orange']\n"
          ]
        }
      ]
    },
    {
      "cell_type": "code",
      "source": [
        "#This example returns the items from \"cherry\" to the end:\n",
        "print(thislist[2:])"
      ],
      "metadata": {
        "colab": {
          "base_uri": "https://localhost:8080/"
        },
        "id": "Svx7Vf2kGqVb",
        "outputId": "5e514693-4f5b-4f6e-c60d-53cf8669cc98"
      },
      "execution_count": 13,
      "outputs": [
        {
          "output_type": "stream",
          "name": "stdout",
          "text": [
            "['cherry', 'orange', 'kiwi', 'melon', 'mango']\n"
          ]
        }
      ]
    },
    {
      "cell_type": "markdown",
      "source": [
        "#Nested list - List within a List"
      ],
      "metadata": {
        "id": "T2zxB4MHHJnz"
      }
    },
    {
      "cell_type": "code",
      "source": [
        "#Nested list - List within a List\n",
        "\n",
        "list2 = [\"Bangladesh\", \"Dhaka\", 5, 10, [\"Ruh\", \"Akash\"]]\n",
        "len(list2)"
      ],
      "metadata": {
        "colab": {
          "base_uri": "https://localhost:8080/"
        },
        "id": "s-227TOtEDSq",
        "outputId": "6ff903f4-4057-4bd2-f3c5-9bedc0c80f1d"
      },
      "execution_count": 14,
      "outputs": [
        {
          "output_type": "execute_result",
          "data": {
            "text/plain": [
              "5"
            ]
          },
          "metadata": {},
          "execution_count": 14
        }
      ]
    },
    {
      "cell_type": "code",
      "source": [
        "list2[-1][1]"
      ],
      "metadata": {
        "colab": {
          "base_uri": "https://localhost:8080/",
          "height": 35
        },
        "id": "5Izq2zpGFZx1",
        "outputId": "60dd39fa-fa5e-49da-bedc-0b6b50274f2c"
      },
      "execution_count": 15,
      "outputs": [
        {
          "output_type": "execute_result",
          "data": {
            "text/plain": [
              "'Akash'"
            ],
            "application/vnd.google.colaboratory.intrinsic+json": {
              "type": "string"
            }
          },
          "metadata": {},
          "execution_count": 15
        }
      ]
    },
    {
      "cell_type": "code",
      "source": [
        "list2[4][1]"
      ],
      "metadata": {
        "colab": {
          "base_uri": "https://localhost:8080/",
          "height": 35
        },
        "id": "rNSc8mrBHGPN",
        "outputId": "414ace31-fe4d-485a-b951-50ca80bee05c"
      },
      "execution_count": 16,
      "outputs": [
        {
          "output_type": "execute_result",
          "data": {
            "text/plain": [
              "'Akash'"
            ],
            "application/vnd.google.colaboratory.intrinsic+json": {
              "type": "string"
            }
          },
          "metadata": {},
          "execution_count": 16
        }
      ]
    },
    {
      "cell_type": "markdown",
      "source": [
        "# Check if Item Exists\n",
        "## To determine if a specified item is present in a list use the\n",
        "                         ✈ in\n",
        " keyword:"
      ],
      "metadata": {
        "id": "WRYO2HzZHX1z"
      }
    },
    {
      "cell_type": "code",
      "source": [
        "thislist = [\"apple\", \"banana\", \"cherry\"]\n",
        "if \"apple\" in thislist:\n",
        "  print(\"Yes, 'apple' is in the fruits list\")\n"
      ],
      "metadata": {
        "colab": {
          "base_uri": "https://localhost:8080/"
        },
        "id": "Si4APPCzHm4T",
        "outputId": "93e5a293-d504-43dd-c373-f0c2c091858a"
      },
      "execution_count": 17,
      "outputs": [
        {
          "output_type": "stream",
          "name": "stdout",
          "text": [
            "Yes, 'apple' is in the fruits list\n"
          ]
        }
      ]
    },
    {
      "cell_type": "markdown",
      "source": [
        "# **Change Item Value**\n",
        "To change the value of a specific item, refer to the index number:"
      ],
      "metadata": {
        "id": "PZTXe2l0NbGF"
      }
    },
    {
      "cell_type": "code",
      "source": [
        "thislist = [\"apple\", \"banana\", \"cherry\"]\n",
        "thislist[1] = \"blackcurrant\"\n",
        "print(thislist)"
      ],
      "metadata": {
        "colab": {
          "base_uri": "https://localhost:8080/"
        },
        "id": "OZZKen9jNe0S",
        "outputId": "04337b07-0398-4851-e13b-3689ae73995d"
      },
      "execution_count": 1,
      "outputs": [
        {
          "output_type": "stream",
          "name": "stdout",
          "text": [
            "['apple', 'blackcurrant', 'cherry']\n"
          ]
        }
      ]
    },
    {
      "cell_type": "code",
      "source": [
        "thislist = [\"apple\", \"banana\", \"cherry\", \"orange\", \"kiwi\", \"mango\"]\n",
        "thislist[1:3] = [\"blackcurrant\", \"watermelon\"]\n",
        "print(thislist)"
      ],
      "metadata": {
        "colab": {
          "base_uri": "https://localhost:8080/"
        },
        "id": "oML1l6PoNmij",
        "outputId": "37257103-9cd5-46ca-e0e5-1f4da3e21e77"
      },
      "execution_count": 2,
      "outputs": [
        {
          "output_type": "stream",
          "name": "stdout",
          "text": [
            "['apple', 'blackcurrant', 'watermelon', 'orange', 'kiwi', 'mango']\n"
          ]
        }
      ]
    },
    {
      "cell_type": "code",
      "source": [
        "thislist = [\"apple\", \"banana\", \"cherry\"]\n",
        "thislist[1:2] = [\"blackcurrant\", \"watermelon\"]\n",
        "print(thislist)"
      ],
      "metadata": {
        "colab": {
          "base_uri": "https://localhost:8080/"
        },
        "id": "1LJyYLmQNtA8",
        "outputId": "01a575bb-40fa-4ec2-e6ef-52df514b651a"
      },
      "execution_count": 3,
      "outputs": [
        {
          "output_type": "stream",
          "name": "stdout",
          "text": [
            "['apple', 'blackcurrant', 'watermelon', 'cherry']\n"
          ]
        }
      ]
    },
    {
      "cell_type": "code",
      "source": [
        "thislist = [\"apple\", \"banana\", \"cherry\"]\n",
        "thislist[1:3] = [\"watermelon\"]\n",
        "print(thislist)"
      ],
      "metadata": {
        "colab": {
          "base_uri": "https://localhost:8080/"
        },
        "id": "rX8JXXuwOry9",
        "outputId": "b7ba8cdb-e244-4b46-cde2-f2ef503526f4"
      },
      "execution_count": 4,
      "outputs": [
        {
          "output_type": "stream",
          "name": "stdout",
          "text": [
            "['apple', 'watermelon']\n"
          ]
        }
      ]
    },
    {
      "cell_type": "markdown",
      "source": [
        "# **Insert Items**\n",
        "To insert a new list item, without replacing any of the existing values, we can use the insert() method.\n",
        "\n",
        "The insert() method inserts an item at the specified index:"
      ],
      "metadata": {
        "id": "66cTcn3CO13k"
      }
    },
    {
      "cell_type": "code",
      "source": [
        "thislist = [\"apple\", \"banana\", \"cherry\"]\n",
        "thislist.insert(2, \"watermelon\")\n",
        "print(thislist)"
      ],
      "metadata": {
        "colab": {
          "base_uri": "https://localhost:8080/"
        },
        "id": "dsXTPVvUPj3z",
        "outputId": "c83345dc-a158-42c7-9d58-939f4dff9aeb"
      },
      "execution_count": 5,
      "outputs": [
        {
          "output_type": "stream",
          "name": "stdout",
          "text": [
            "['apple', 'banana', 'watermelon', 'cherry']\n"
          ]
        }
      ]
    },
    {
      "cell_type": "markdown",
      "source": [
        "# Slicing"
      ],
      "metadata": {
        "id": "KS3mJrvrPuP9"
      }
    },
    {
      "cell_type": "code",
      "source": [
        "list2 = [\"Bangladesh\", \"Dhaka\", 5, 10, [\"Ruh\", \"Akash\"]]\n",
        "list2[-1]"
      ],
      "metadata": {
        "colab": {
          "base_uri": "https://localhost:8080/"
        },
        "id": "Dg-y3bkZPvoh",
        "outputId": "26ccac91-45ee-474b-c4e3-be3ed20dc14e"
      },
      "execution_count": 6,
      "outputs": [
        {
          "output_type": "execute_result",
          "data": {
            "text/plain": [
              "['Ruh', 'Akash']"
            ]
          },
          "metadata": {},
          "execution_count": 6
        }
      ]
    },
    {
      "cell_type": "code",
      "source": [
        "list2[4][0]"
      ],
      "metadata": {
        "colab": {
          "base_uri": "https://localhost:8080/",
          "height": 35
        },
        "id": "O78Daw5YQCiy",
        "outputId": "6fb82e26-99bf-4396-f7e2-93b7dfc3b4b0"
      },
      "execution_count": 8,
      "outputs": [
        {
          "output_type": "execute_result",
          "data": {
            "text/plain": [
              "'Ruh'"
            ],
            "application/vnd.google.colaboratory.intrinsic+json": {
              "type": "string"
            }
          },
          "metadata": {},
          "execution_count": 8
        }
      ]
    },
    {
      "cell_type": "markdown",
      "source": [
        "# Append Items\n",
        "To add an item to the end of the list, use the append() method:"
      ],
      "metadata": {
        "id": "Guw_F2Y_QLpL"
      }
    },
    {
      "cell_type": "code",
      "source": [
        "thislist = [\"apple\", \"banana\", \"cherry\"]\n",
        "thislist.append(\"orange\")\n",
        "print(thislist)"
      ],
      "metadata": {
        "colab": {
          "base_uri": "https://localhost:8080/"
        },
        "id": "4f75wzzZQN06",
        "outputId": "93c8c4a7-96ac-4d33-de7c-99cc469c0c87"
      },
      "execution_count": 9,
      "outputs": [
        {
          "output_type": "stream",
          "name": "stdout",
          "text": [
            "['apple', 'banana', 'cherry', 'orange']\n"
          ]
        }
      ]
    },
    {
      "cell_type": "markdown",
      "source": [
        "# **Insert Items**\n",
        "To insert a list item at a specified index, use the insert() method.\n",
        "\n",
        "The insert() method inserts an item at the specified index:"
      ],
      "metadata": {
        "id": "RbJ7J6zwQZ_u"
      }
    },
    {
      "cell_type": "code",
      "source": [
        "thislist = [\"apple\", \"banana\", \"cherry\"]\n",
        "thislist.insert(1, \"orange\")\n",
        "print(thislist)"
      ],
      "metadata": {
        "colab": {
          "base_uri": "https://localhost:8080/"
        },
        "id": "43Sl--xTQcUT",
        "outputId": "d4c49491-0d15-4fc8-b64d-205b28ac2685"
      },
      "execution_count": 10,
      "outputs": [
        {
          "output_type": "stream",
          "name": "stdout",
          "text": [
            "['apple', 'orange', 'banana', 'cherry']\n"
          ]
        }
      ]
    },
    {
      "cell_type": "markdown",
      "source": [
        "# Extend List\n",
        "To append elements from another list to the current list, use the extend() method."
      ],
      "metadata": {
        "id": "3NupODceQj-s"
      }
    },
    {
      "cell_type": "code",
      "source": [
        "thislist = [\"apple\", \"banana\", \"cherry\"]\n",
        "tropical = [\"mango\", \"pineapple\", \"papaya\"]\n",
        "thislist.extend(tropical)\n",
        "print(thislist)\n",
        "\n",
        "#The extend() method does not have to append lists, you can add any iterable object (tuples, sets, dictionaries etc.).\n",
        "thislist1 = [\"apple\", \"banana\", \"cherry\"]\n",
        "thistuple1 = (\"kiwi\", \"orange\")\n",
        "thislist1.extend(thistuple1)\n",
        "print(thislist1)"
      ],
      "metadata": {
        "colab": {
          "base_uri": "https://localhost:8080/"
        },
        "id": "YaWp7pOiQjV0",
        "outputId": "80beb51a-9397-4f02-b1de-17419443f474"
      },
      "execution_count": 12,
      "outputs": [
        {
          "output_type": "stream",
          "name": "stdout",
          "text": [
            "['apple', 'banana', 'cherry', 'mango', 'pineapple', 'papaya']\n",
            "['apple', 'banana', 'cherry', 'kiwi', 'orange']\n"
          ]
        }
      ]
    },
    {
      "cell_type": "markdown",
      "source": [
        "# Remove Specified Item\n",
        "The remove() method removes the specified item.\n",
        "\n",
        "\n",
        ">If there are more than one item with the specified value, the remove() method removes the first occurrence:\n"
      ],
      "metadata": {
        "id": "MfZz-toIQ9Tl"
      }
    },
    {
      "cell_type": "code",
      "source": [
        "thislist = [\"apple\", \"banana\", \"cherry\"]\n",
        "thislist.remove(\"banana\")\n",
        "print(thislist)"
      ],
      "metadata": {
        "colab": {
          "base_uri": "https://localhost:8080/"
        },
        "id": "tcUsosQmQ_lz",
        "outputId": "bcb99556-e076-4091-c29e-8daef369794e"
      },
      "execution_count": 13,
      "outputs": [
        {
          "output_type": "stream",
          "name": "stdout",
          "text": [
            "['apple', 'cherry']\n"
          ]
        }
      ]
    },
    {
      "cell_type": "markdown",
      "source": [
        "# Remove Specified Index\n",
        "The pop() method removes the specified index.\n",
        "\n",
        ">>If you do not specify the index, the pop() method removes the last item.\n",
        "\n"
      ],
      "metadata": {
        "id": "rHZEssWfRY9U"
      }
    },
    {
      "cell_type": "code",
      "source": [
        "thislist = [\"apple\", \"banana\", \"cherry\"]\n",
        "thislist.pop(1)\n",
        "print(thislist)"
      ],
      "metadata": {
        "colab": {
          "base_uri": "https://localhost:8080/"
        },
        "id": "zrP65IxLRcAt",
        "outputId": "cc33bcaf-6bd4-49cb-ab2a-6396942e342b"
      },
      "execution_count": 14,
      "outputs": [
        {
          "output_type": "stream",
          "name": "stdout",
          "text": [
            "['apple', 'cherry']\n"
          ]
        }
      ]
    },
    {
      "cell_type": "markdown",
      "source": [
        "The del keyword also removes the specified index:"
      ],
      "metadata": {
        "id": "Xk4yN9PYRtEz"
      }
    },
    {
      "cell_type": "code",
      "source": [
        "thislist = [\"apple\", \"banana\", \"cherry\"]\n",
        "del thislist[0]\n",
        "print(thislist)"
      ],
      "metadata": {
        "colab": {
          "base_uri": "https://localhost:8080/"
        },
        "id": "wbWahRW9Rud1",
        "outputId": "1620044f-da8b-4872-a12b-4e7ffa686e90"
      },
      "execution_count": 15,
      "outputs": [
        {
          "output_type": "stream",
          "name": "stdout",
          "text": [
            "['banana', 'cherry']\n"
          ]
        }
      ]
    },
    {
      "cell_type": "code",
      "source": [
        "thislist = [\"apple\", \"banana\", \"cherry\"]  #Delete the entire list:\n",
        "del thislist"
      ],
      "metadata": {
        "id": "QRMnEovwR0qr"
      },
      "execution_count": 17,
      "outputs": []
    },
    {
      "cell_type": "markdown",
      "source": [
        "# Clear the List\n",
        "The clear() method empties the list.\n",
        "\n",
        "The list still remains, but it has no content."
      ],
      "metadata": {
        "id": "pMwoc9RaR72M"
      }
    },
    {
      "cell_type": "code",
      "source": [
        "thislist = [\"apple\", \"banana\", \"cherry\"]\n",
        "thislist.clear()\n",
        "print(thislist)"
      ],
      "metadata": {
        "colab": {
          "base_uri": "https://localhost:8080/"
        },
        "id": "YJqTeXIrR9lw",
        "outputId": "b29ba527-d2be-4c02-b756-80d437786c25"
      },
      "execution_count": 18,
      "outputs": [
        {
          "output_type": "stream",
          "name": "stdout",
          "text": [
            "[]\n"
          ]
        }
      ]
    },
    {
      "cell_type": "markdown",
      "source": [
        "# Loop Through a List\n",
        "You can loop through the list items by using a for loop:"
      ],
      "metadata": {
        "id": "glgMjc8WTMU3"
      }
    },
    {
      "cell_type": "code",
      "source": [
        "thislist = [\"apple\", \"banana\", \"cherry\"]\n",
        "for x in thislist:\n",
        "  print(x)"
      ],
      "metadata": {
        "colab": {
          "base_uri": "https://localhost:8080/"
        },
        "id": "COLrBIJcTOgk",
        "outputId": "9bde6209-534b-4961-f13b-421edd3a5031"
      },
      "execution_count": 19,
      "outputs": [
        {
          "output_type": "stream",
          "name": "stdout",
          "text": [
            "apple\n",
            "banana\n",
            "cherry\n"
          ]
        }
      ]
    },
    {
      "cell_type": "code",
      "source": [
        "thislist = [\"apple\", \"banana\", \"cherry\"]\n",
        "for i in range(len(thislist)):\n",
        "  print(thislist[i])"
      ],
      "metadata": {
        "colab": {
          "base_uri": "https://localhost:8080/"
        },
        "id": "9U67xdA8TVfc",
        "outputId": "fcadc25a-64a1-4144-d763-ecfdbace52fd"
      },
      "execution_count": 20,
      "outputs": [
        {
          "output_type": "stream",
          "name": "stdout",
          "text": [
            "apple\n",
            "banana\n",
            "cherry\n"
          ]
        }
      ]
    },
    {
      "cell_type": "code",
      "source": [
        "thislist = [\"apple\", \"banana\", \"cherry\"]  #Using a While Loop\n",
        "i = 0\n",
        "while i < len(thislist):\n",
        "  print(thislist[i])\n",
        "  i = i + 1"
      ],
      "metadata": {
        "id": "nh025FJUTc61"
      },
      "execution_count": null,
      "outputs": []
    },
    {
      "cell_type": "markdown",
      "source": [
        "**Looping Using List Comprehension**"
      ],
      "metadata": {
        "id": "XWkrB-YWTk5v"
      }
    },
    {
      "cell_type": "code",
      "source": [
        "thislist = [\"apple\", \"banana\", \"cherry\"]\n",
        "[print(x) for x in thislist]"
      ],
      "metadata": {
        "colab": {
          "base_uri": "https://localhost:8080/"
        },
        "id": "fSP6z3DuTmI4",
        "outputId": "88c7d076-a8e8-48ef-dda1-49b7ae5b6e9f"
      },
      "execution_count": 21,
      "outputs": [
        {
          "output_type": "stream",
          "name": "stdout",
          "text": [
            "apple\n",
            "banana\n",
            "cherry\n"
          ]
        },
        {
          "output_type": "execute_result",
          "data": {
            "text/plain": [
              "[None, None, None]"
            ]
          },
          "metadata": {},
          "execution_count": 21
        }
      ]
    },
    {
      "cell_type": "code",
      "source": [
        "fruits = [\"apple\", \"banana\", \"cherry\", \"kiwi\", \"mango\"]\n",
        "newlist = []\n",
        "\n",
        "for x in fruits:\n",
        "  if \"a\" in x:\n",
        "    newlist.append(x)\n",
        "\n",
        "print(newlist)"
      ],
      "metadata": {
        "colab": {
          "base_uri": "https://localhost:8080/"
        },
        "id": "vQ6p_G6kTwoV",
        "outputId": "aa079f8f-f709-449c-8f0e-9d525b55ea0c"
      },
      "execution_count": 22,
      "outputs": [
        {
          "output_type": "stream",
          "name": "stdout",
          "text": [
            "['apple', 'banana', 'mango']\n"
          ]
        }
      ]
    },
    {
      "cell_type": "code",
      "source": [
        "fruits = [\"apple\", \"banana\", \"cherry\", \"kiwi\", \"mango\"]\n",
        "newlist = [x for x in fruits if \"a\" in x]\n",
        "print(newlist)"
      ],
      "metadata": {
        "colab": {
          "base_uri": "https://localhost:8080/"
        },
        "id": "kk-S6IVOUO0N",
        "outputId": "a47e555a-6bad-45fa-f793-4dafdaa21beb"
      },
      "execution_count": 23,
      "outputs": [
        {
          "output_type": "stream",
          "name": "stdout",
          "text": [
            "['apple', 'banana', 'mango']\n"
          ]
        }
      ]
    },
    {
      "cell_type": "code",
      "source": [
        "#newlist = [expression for item in iterable if condition == True]\n",
        "fruits = [\"apple\", \"banana\", \"cherry\", \"kiwi\", \"mango\"]\n",
        "newlist = [x for x in fruits if x != \"apple\"]\n",
        "print(newlist)"
      ],
      "metadata": {
        "colab": {
          "base_uri": "https://localhost:8080/"
        },
        "id": "vmgstk0CUWN1",
        "outputId": "1038cece-93b6-4d2d-eba7-4a0cf8812b75"
      },
      "execution_count": 26,
      "outputs": [
        {
          "output_type": "stream",
          "name": "stdout",
          "text": [
            "['banana', 'cherry', 'kiwi', 'mango']\n"
          ]
        }
      ]
    },
    {
      "cell_type": "code",
      "source": [
        "newlist = [x for x in range(10)]"
      ],
      "metadata": {
        "id": "6e99UZYslsL9"
      },
      "execution_count": 27,
      "outputs": []
    },
    {
      "cell_type": "code",
      "source": [
        "newlist = [x for x in range(10) if x < 5]"
      ],
      "metadata": {
        "id": "zFzilShJlxwc"
      },
      "execution_count": 28,
      "outputs": []
    },
    {
      "cell_type": "code",
      "source": [
        "fruits = [\"apple\", \"banana\", \"cherry\", \"kiwi\", \"mango\"]\n",
        "\n",
        "newlist = ['hello' for x in fruits]\n",
        "\n",
        "print(newlist)\n"
      ],
      "metadata": {
        "colab": {
          "base_uri": "https://localhost:8080/"
        },
        "id": "G6M0yGfHl85_",
        "outputId": "c2e0692c-f865-4776-e63f-f273a68accc7"
      },
      "execution_count": 29,
      "outputs": [
        {
          "output_type": "stream",
          "name": "stdout",
          "text": [
            "['hello', 'hello', 'hello', 'hello', 'hello']\n"
          ]
        }
      ]
    },
    {
      "cell_type": "code",
      "source": [
        "fruits = [\"apple\", \"banana\", \"cherry\", \"kiwi\", \"mango\"]\n",
        "newlist = [x if x != \"banana\" else \"orange\" for x in fruits]\n",
        "print(newlist)"
      ],
      "metadata": {
        "colab": {
          "base_uri": "https://localhost:8080/"
        },
        "id": "5E5SAzRRmB2s",
        "outputId": "eb39b6c3-0fc4-4466-af8a-b5d2a718b739"
      },
      "execution_count": 33,
      "outputs": [
        {
          "output_type": "stream",
          "name": "stdout",
          "text": [
            "['apple', 'orange', 'cherry', 'kiwi', 'mango']\n"
          ]
        }
      ]
    },
    {
      "cell_type": "markdown",
      "source": [
        "# Sort List Alphanumerically\n",
        "List objects have a sort() method that will sort the list alphanumerically, ascending, by default:"
      ],
      "metadata": {
        "id": "OfAsTmsFnEVA"
      }
    },
    {
      "cell_type": "code",
      "source": [
        "thislist = [\"orange\", \"mango\", \"kiwi\", \"pineapple\", \"banana\"]\n",
        "thislist.sort()\n",
        "print(thislist)"
      ],
      "metadata": {
        "colab": {
          "base_uri": "https://localhost:8080/"
        },
        "id": "R6od4ORknKtC",
        "outputId": "10a50810-98a8-4635-812b-451e5e25c9bd"
      },
      "execution_count": 34,
      "outputs": [
        {
          "output_type": "stream",
          "name": "stdout",
          "text": [
            "['banana', 'kiwi', 'mango', 'orange', 'pineapple']\n"
          ]
        }
      ]
    },
    {
      "cell_type": "code",
      "source": [
        "thislist = [100, 50, 65, 82, 23]\n",
        "thislist.sort()\n",
        "print(thislist)"
      ],
      "metadata": {
        "colab": {
          "base_uri": "https://localhost:8080/"
        },
        "id": "CIhQGhxinPpU",
        "outputId": "f3082ac4-21ea-41f4-fd1c-96013fdd5f81"
      },
      "execution_count": 35,
      "outputs": [
        {
          "output_type": "stream",
          "name": "stdout",
          "text": [
            "[23, 50, 65, 82, 100]\n"
          ]
        }
      ]
    },
    {
      "cell_type": "markdown",
      "source": [
        "# Sort Descending\n",
        "To sort descending, use the keyword argument reverse = True:"
      ],
      "metadata": {
        "id": "E5L6EhVRnUIk"
      }
    },
    {
      "cell_type": "code",
      "source": [
        "thislist = [\"orange\", \"mango\", \"kiwi\", \"pineapple\", \"banana\"]\n",
        "thislist.sort(reverse = True)\n",
        "print(thislist)"
      ],
      "metadata": {
        "colab": {
          "base_uri": "https://localhost:8080/"
        },
        "id": "pj7LCFIrnVya",
        "outputId": "3073bd53-9760-4d47-b25c-f4c906338079"
      },
      "execution_count": 36,
      "outputs": [
        {
          "output_type": "stream",
          "name": "stdout",
          "text": [
            "['pineapple', 'orange', 'mango', 'kiwi', 'banana']\n"
          ]
        }
      ]
    },
    {
      "cell_type": "code",
      "source": [
        "thislist = [100, 50, 65, 82, 23]\n",
        "thislist.sort(reverse = True)\n",
        "print(thislist)"
      ],
      "metadata": {
        "colab": {
          "base_uri": "https://localhost:8080/"
        },
        "id": "KtyeiLmanceT",
        "outputId": "88b80c28-b21a-4026-b5f2-502d76502449"
      },
      "execution_count": 37,
      "outputs": [
        {
          "output_type": "stream",
          "name": "stdout",
          "text": [
            "[100, 82, 65, 50, 23]\n"
          ]
        }
      ]
    },
    {
      "cell_type": "markdown",
      "source": [
        "# Reverse Order\n",
        "What if you want to reverse the order of a list, regardless of the alphabet?\n",
        "\n",
        "The reverse() method reverses the current sorting order of the elements."
      ],
      "metadata": {
        "id": "PgkBRk7Wnzl_"
      }
    },
    {
      "cell_type": "code",
      "source": [
        "thislist = [\"banana\", \"Orange\", \"Kiwi\", \"cherry\"]\n",
        "thislist.reverse()\n",
        "print(thislist)"
      ],
      "metadata": {
        "colab": {
          "base_uri": "https://localhost:8080/"
        },
        "id": "jYWXPmDyn32j",
        "outputId": "e4609d4d-1020-4b09-d099-21148f909704"
      },
      "execution_count": 38,
      "outputs": [
        {
          "output_type": "stream",
          "name": "stdout",
          "text": [
            "['cherry', 'Kiwi', 'Orange', 'banana']\n"
          ]
        }
      ]
    },
    {
      "cell_type": "markdown",
      "source": [
        "# Difference between sort & sorted"
      ],
      "metadata": {
        "id": "Uvcv3ArmoG_Y"
      }
    },
    {
      "cell_type": "code",
      "source": [
        "A = [\"Oranges\", \"Strawberry\", \"Mango\"]\n",
        "B = A.sort()\n",
        "print(A)\n",
        "print(B)"
      ],
      "metadata": {
        "colab": {
          "base_uri": "https://localhost:8080/"
        },
        "id": "hm6shqDkoJFk",
        "outputId": "5b23f373-ec66-4fdf-9714-8c6fe1152f7b"
      },
      "execution_count": 39,
      "outputs": [
        {
          "output_type": "stream",
          "name": "stdout",
          "text": [
            "['Mango', 'Oranges', 'Strawberry']\n",
            "None\n"
          ]
        }
      ]
    },
    {
      "cell_type": "code",
      "source": [
        "A = [\"Oranges\", \"Strawberry\", \"Mango\"]\n",
        "B = sorted(A)\n",
        "print(A)\n",
        "print(B)"
      ],
      "metadata": {
        "colab": {
          "base_uri": "https://localhost:8080/"
        },
        "id": "sOefkctboZ_X",
        "outputId": "d5a56444-3d50-436d-8a46-57ce2ee11a5f"
      },
      "execution_count": 40,
      "outputs": [
        {
          "output_type": "stream",
          "name": "stdout",
          "text": [
            "['Oranges', 'Strawberry', 'Mango']\n",
            "['Mango', 'Oranges', 'Strawberry']\n"
          ]
        }
      ]
    },
    {
      "cell_type": "code",
      "source": [
        "#shallow copy\n",
        "A = [\"Oranges\", \"Strawberry\", \"Mango\"]\n",
        "B = A\n",
        "print(B)\n",
        "print(A)"
      ],
      "metadata": {
        "colab": {
          "base_uri": "https://localhost:8080/"
        },
        "id": "wpvYkFbWohVc",
        "outputId": "611aeed4-1130-41b8-b780-9e727c77af3b"
      },
      "execution_count": 41,
      "outputs": [
        {
          "output_type": "stream",
          "name": "stdout",
          "text": [
            "['Oranges', 'Strawberry', 'Mango']\n",
            "['Oranges', 'Strawberry', 'Mango']\n"
          ]
        }
      ]
    },
    {
      "cell_type": "markdown",
      "source": [
        "# Join Two Lists\n",
        "There are several ways to join, or concatenate, two or more lists in Python.\n",
        "\n",
        "One of the easiest ways are by using the + operator."
      ],
      "metadata": {
        "id": "3E6X1lOtowTH"
      }
    },
    {
      "cell_type": "code",
      "source": [
        "list1 = [\"a\", \"b\", \"c\"]\n",
        "list2 = [1, 2, 3]\n",
        "\n",
        "list3 = list1 + list2\n",
        "print(list3)"
      ],
      "metadata": {
        "colab": {
          "base_uri": "https://localhost:8080/"
        },
        "id": "AMB6Y5RCo0If",
        "outputId": "585ae591-b303-4ab4-e46f-28e7eab59307"
      },
      "execution_count": 42,
      "outputs": [
        {
          "output_type": "stream",
          "name": "stdout",
          "text": [
            "['a', 'b', 'c', 1, 2, 3]\n"
          ]
        }
      ]
    },
    {
      "cell_type": "code",
      "source": [
        "list1 = [\"a\", \"b\" , \"c\"]\n",
        "list2 = [1, 2, 3]\n",
        "\n",
        "for x in list2:\n",
        "  list1.append(x)\n",
        "\n",
        "print(list1)"
      ],
      "metadata": {
        "colab": {
          "base_uri": "https://localhost:8080/"
        },
        "id": "yoEYq0eoo6mM",
        "outputId": "109a3532-5877-43e9-db0b-e95028e0a5f3"
      },
      "execution_count": 43,
      "outputs": [
        {
          "output_type": "stream",
          "name": "stdout",
          "text": [
            "['a', 'b', 'c', 1, 2, 3]\n"
          ]
        }
      ]
    },
    {
      "cell_type": "markdown",
      "source": [
        "![image.png](data:image/png;base64,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)"
      ],
      "metadata": {
        "id": "yAvs3V9ppGe1"
      }
    }
  ]
}