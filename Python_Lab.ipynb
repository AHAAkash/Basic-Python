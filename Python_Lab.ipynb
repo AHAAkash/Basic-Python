{
  "nbformat": 4,
  "nbformat_minor": 0,
  "metadata": {
    "colab": {
      "provenance": []
    },
    "kernelspec": {
      "name": "python3",
      "display_name": "Python 3"
    },
    "language_info": {
      "name": "python"
    }
  },
  "cells": [
    {
      "cell_type": "code",
      "execution_count": null,
      "metadata": {
        "colab": {
          "base_uri": "https://localhost:8080/"
        },
        "id": "KB124Tia5MBw",
        "outputId": "c2589243-9256-4a3c-bad9-4845ae8fefb8"
      },
      "outputs": [
        {
          "output_type": "stream",
          "name": "stdout",
          "text": [
            "Enter the number for multiplication table:5\n",
            "5 X 1 = 5\n",
            "5 X 2 = 10\n",
            "5 X 3 = 15\n",
            "5 X 4 = 20\n",
            "5 X 5 = 25\n",
            "5 X 6 = 30\n",
            "5 X 7 = 35\n",
            "5 X 8 = 40\n",
            "5 X 9 = 45\n",
            "5 X 10 = 50\n"
          ]
        }
      ],
      "source": [
        "num=int(input(\"Enter the number for multiplication table:\"))\n",
        "for i in range(1,11):\n",
        "  print(num,\"X\",i,\"=\",num*i,)"
      ]
    },
    {
      "cell_type": "code",
      "source": [
        "num = int(input(\"Enter number:\"))\n",
        "factorial = 1\n",
        "\n",
        "if num < 0:\n",
        "  print(\"Factorial does not exist\")\n",
        "elif num == 0:\n",
        "  print(num, \"factorial is 1\")\n",
        "else:\n",
        "  for i in range(1, num + 1):\n",
        "    factorial = factorial * i\n",
        "  print(num, \"factorial is\", factorial)"
      ],
      "metadata": {
        "colab": {
          "base_uri": "https://localhost:8080/"
        },
        "id": "7uXX8d_v-cqA",
        "outputId": "df73ead7-72cf-4c6e-92cc-82da56fcdcdb"
      },
      "execution_count": null,
      "outputs": [
        {
          "output_type": "stream",
          "name": "stdout",
          "text": [
            "Enter number:21\n",
            "21 factorial is 51090942171709440000\n"
          ]
        }
      ]
    },
    {
      "cell_type": "code",
      "source": [
        "print(\"Simple Question and Answering Program\")\n",
        "print(\"======================================\")\n",
        "print(\" You may ask any one of these questions\")\n",
        "print(\"Hi\")\n",
        "print(\"How are you?\")\n",
        "print(\"Are you Student?\")\n",
        "print(\"What is your name?\")\n",
        "print(\"What did you do yesterday?\")\n",
        "print(\"Quit\")\n",
        "\n",
        "while True:\n",
        "    Q = input(\"Enter one question from above list:\")\n",
        "    Q = Q.lower()\n",
        "\n",
        "    if Q in ['hi']:\n",
        "        print(\"Hello\")\n",
        "    elif Q in ['how are you?']:\n",
        "        print(\"I am fine\")\n",
        "    elif Q in ['are you student?']:\n",
        "        print(\"yes,I am student\")\n",
        "    elif Q in ['what is your name?']:\n",
        "        print(\"My name is Akash\")\n",
        "        name = input(\"Enter your name:\")\n",
        "        print(\"Nice to meet you\", name)\n",
        "    elif Q in ['what did you do yesterday?']:\n",
        "        print(\"I completed my python lab report.\")\n",
        "    elif Q in ['quit']:\n",
        "        break\n",
        "    else:\n",
        "        print(\"I don't understand what you said\")"
      ],
      "metadata": {
        "colab": {
          "base_uri": "https://localhost:8080/"
        },
        "id": "a02eAjb5_FOo",
        "outputId": "08f5b258-385e-4538-b4e7-cc7a3e664bb5"
      },
      "execution_count": null,
      "outputs": [
        {
          "name": "stdout",
          "output_type": "stream",
          "text": [
            "Simple Question and Answering Program\n",
            "======================================\n",
            " You may ask any one of these questions\n",
            "Hi\n",
            "How are you?\n",
            "Are you Student?\n",
            "What is your name?\n",
            "What did you do yesterday?\n",
            "Quit\n",
            "Enter one question from above list:Hi\n",
            "Hello\n",
            "Enter one question from above list:Are you Student?\n",
            "yes,I am student\n",
            "Enter one question from above list:What is your name?\n",
            "My name is Akash\n",
            "Enter your name:I don't understand what you said\n",
            "Nice to meet you I don't understand what you said\n",
            "Enter one question from above list:quit\n"
          ]
        }
      ]
    },
    {
      "cell_type": "code",
      "source": [
        "num = int(input(\"Enter number:\"))\n",
        "\n",
        "if num > 1:\n",
        "  for i in range(2, num):\n",
        "    if (num % i) == 0:\n",
        "      print(num, \"is not a prime number\")\n",
        "      break\n",
        "  else:\n",
        "    print(num, \"is a prime number\")\n",
        "else:\n",
        "  print(num, \"is not a prime number\")"
      ],
      "metadata": {
        "colab": {
          "base_uri": "https://localhost:8080/"
        },
        "id": "xv5gG0058wkY",
        "outputId": "1261a8c5-7b77-4cda-a56b-2f0aeeed247e"
      },
      "execution_count": null,
      "outputs": [
        {
          "output_type": "stream",
          "name": "stdout",
          "text": [
            "Enter number:55\n",
            "55 is not a prime number\n"
          ]
        }
      ]
    },
    {
      "cell_type": "code",
      "source": [
        "name=['A','t','i','a','M','I','M']\n",
        "print(\"Name=\",name)\n",
        "print(\"2nd letter of name\",name[1])\n",
        "print(\"last letter of name\",name[-1])#Index -1 represents the last element\n",
        "#slicing\n",
        "print(\"Sliced lists:\")\n",
        "print(name[1:4])\n",
        "print(\"last three letter of name\",name[4:])\n",
        "print(\"First four letter of name\",name[:4])\n",
        "#length\n",
        "print(\"length of name\",len(name))\n",
        "#membership\n",
        "print(\"A\"in name)\n",
        "print(\"A\"not in name)\n",
        "#nested list\n",
        "num=[[1,2,3,4],[5,6,7,8]]\n",
        "print(\"Nested list:\",num)\n",
        "print(\"First list second index:\",num[0][1])\n",
        "print(\"Second list third index:\",num[1][2])\n",
        "#concatenation\n",
        "a=\"Python\"\n",
        "b=\"Program\"\n",
        "print(\"Concatenation\",a,b,\":\",a+b)\n",
        "#Iteration\n",
        "repeat=\"JSTU\"\n",
        "print(\"Repetition:\",repeat,repeat)"
      ],
      "metadata": {
        "colab": {
          "base_uri": "https://localhost:8080/"
        },
        "id": "Lx4dVNUhAnhV",
        "outputId": "b83f0bea-2c7e-4060-8fa0-3c330d2955b5"
      },
      "execution_count": null,
      "outputs": [
        {
          "output_type": "stream",
          "name": "stdout",
          "text": [
            "Name= ['A', 't', 'i', 'a', 'M', 'I', 'M']\n",
            "2nd letter of name t\n",
            "last letter of name M\n",
            "Sliced lists:\n",
            "['t', 'i', 'a']\n",
            "last three letter of name ['M', 'I', 'M']\n",
            "First four letter of name ['A', 't', 'i', 'a']\n",
            "length of name 7\n",
            "True\n",
            "False\n",
            "Nested list: [[1, 2, 3, 4], [5, 6, 7, 8]]\n",
            "First list second index: 2\n",
            "Second list third index: 7\n",
            "Concatenation Python Program : PythonProgram\n",
            "Repetition: JSTU JSTU\n"
          ]
        }
      ]
    },
    {
      "cell_type": "code",
      "source": [
        "sub=['c','c++','python','java']\n",
        "print(\"list:\",sub)\n",
        "print(\"length of list:\",len(sub))\n",
        "#add element to a list\n",
        "sub.insert(2,'AI')\n",
        "print(\"After adding AI to the list at 2 no. index:\",sub)\n",
        "print(\"length of list after adding element:\",len(sub))\n",
        "#append an element to a list\n",
        "sub.append('Math')\n",
        "print(\"After appending Math to the list:\",sub)\n",
        "#Extended list\n",
        "dept=['EEE','CSE']\n",
        "sub.extend(dept)\n",
        "print(\"After extended with another list:\",sub)\n",
        "#delete a element in the list using element\n",
        "sub.remove(\"CSE\")\n",
        "print(\"After deleting CSE\",sub)\n",
        "#delete a element in the list using index\n",
        "sub.remove(sub[6])\n",
        "print(\"After deleting 6 no. index of list\",sub)"
      ],
      "metadata": {
        "colab": {
          "base_uri": "https://localhost:8080/"
        },
        "id": "1eD7iNsrBcDV",
        "outputId": "127dbe15-52e2-44bf-9ec3-bfa9eb177332"
      },
      "execution_count": null,
      "outputs": [
        {
          "output_type": "stream",
          "name": "stdout",
          "text": [
            "list: ['c', 'c++', 'python', 'java']\n",
            "length of list: 4\n",
            "After adding AI to the list at 2 no. index: ['c', 'c++', 'AI', 'python', 'java']\n",
            "length of list after adding element: 5\n",
            "After appending Math to the list: ['c', 'c++', 'AI', 'python', 'java', 'Math']\n",
            "After extended with another list: ['c', 'c++', 'AI', 'python', 'java', 'Math', 'EEE', 'CSE']\n",
            "After deleting CSE ['c', 'c++', 'AI', 'python', 'java', 'Math', 'EEE']\n",
            "After deleting 6 no. index of list ['c', 'c++', 'AI', 'python', 'java', 'Math']\n"
          ]
        }
      ]
    },
    {
      "cell_type": "code",
      "source": [
        "A = {4, 5, 3, 9}\n",
        "B = {1, 2, 3, 7}\n",
        "#set union\n",
        "print(\"Union of A and B:\",A|B)\n",
        "# set intersection\n",
        "print(\"Intersection of A and B:\",A&B)\n",
        "#set differences\n",
        "print(\"Difference of A and B is:\",A - B)\n",
        "# set symmetric difference\n",
        "print(\"Symmetric difference of A and B is\",A ^ B)"
      ],
      "metadata": {
        "colab": {
          "base_uri": "https://localhost:8080/"
        },
        "id": "uwlRlO2ZCCyU",
        "outputId": "c3f7e8b2-626d-4c70-b29e-3d4c421c0bd8"
      },
      "execution_count": null,
      "outputs": [
        {
          "output_type": "stream",
          "name": "stdout",
          "text": [
            "Union of A and B: {1, 2, 3, 4, 5, 7, 9}\n",
            "Intersection of A and B: {3}\n",
            "Difference of A and B is: {9, 4, 5}\n",
            "Symmetric difference of A and B is {1, 2, 4, 5, 7, 9}\n"
          ]
        }
      ]
    },
    {
      "cell_type": "code",
      "source": [
        "import calendar\n",
        "yy=int(input(\"Enter year:\"))\n",
        "mm=int(input(\"Enter month:\"))\n",
        "print(calendar.month(yy, mm))"
      ],
      "metadata": {
        "colab": {
          "base_uri": "https://localhost:8080/"
        },
        "id": "7GZqzQ8fCVJu",
        "outputId": "f95f5cd7-c1c5-4306-ae1b-20f1216e295c"
      },
      "execution_count": 1,
      "outputs": [
        {
          "output_type": "stream",
          "name": "stdout",
          "text": [
            "Enter year:2001\n",
            "Enter month:8\n",
            "    August 2001\n",
            "Mo Tu We Th Fr Sa Su\n",
            "       1  2  3  4  5\n",
            " 6  7  8  9 10 11 12\n",
            "13 14 15 16 17 18 19\n",
            "20 21 22 23 24 25 26\n",
            "27 28 29 30 31\n",
            "\n"
          ]
        }
      ]
    },
    {
      "cell_type": "code",
      "source": [
        "print(\"Select Operation\")\n",
        "print(\"1.Addition\")\n",
        "print(\"2.Subtraction\")\n",
        "print(\"3.Multiplication\")\n",
        "print(\"4.Division\")\n",
        "print(\"5.Quit\")\n",
        "\n",
        "while True:\n",
        "  choice=int(input(\"Enter Choice:1/2/3/4:\"))\n",
        "  if choice==5:\n",
        "    break\n",
        "  num1=int(input(\"Enter first number:\"))\n",
        "  num2=int(input(\"Enter second number:\"))\n",
        "  if choice==1:\n",
        "    print(num1,\"+\",num2,\"=\",num1+num2,)\n",
        "  elif choice == 2:\n",
        "    print(num1,\"-\",num2,\"=\",num1-num2,)\n",
        "  elif choice == 3:\n",
        "    print(num1,\"X\",num2,\"=\",num1*num2,)\n",
        "  elif choice == 4:\n",
        "    print(num1,\"/\",num2,\"=\",num1/num2,)\n",
        "  else:\n",
        "    print(\"Invalid input\")"
      ],
      "metadata": {
        "colab": {
          "base_uri": "https://localhost:8080/"
        },
        "id": "kL-Cy4XMDH2k",
        "outputId": "0ee37e9b-7694-438d-9af8-7e275e0690d3"
      },
      "execution_count": null,
      "outputs": [
        {
          "name": "stdout",
          "output_type": "stream",
          "text": [
            "Select Operation\n",
            "1.Addition\n",
            "2.Subtraction\n",
            "3.Multiplication\n",
            "4.Division\n",
            "5.Quit\n",
            "Enter Choice:1/2/3/4:1\n",
            "Enter first number:5\n",
            "Enter second number:21\n",
            "5 + 21 = 26\n",
            "Enter Choice:1/2/3/4:2\n",
            "Enter first number:21\n",
            "Enter second number:5\n",
            "21 - 5 = 16\n",
            "Enter Choice:1/2/3/4:3\n",
            "Enter first number:21\n",
            "Enter second number:5\n",
            "21 X 5 = 105\n",
            "Enter Choice:1/2/3/4:4\n",
            "Enter first number:21\n",
            "Enter second number:5\n",
            "21 / 5 = 4.2\n",
            "Enter Choice:1/2/3/4:5\n"
          ]
        }
      ]
    },
    {
      "cell_type": "code",
      "source": [
        "rows = int(input(\"Enter the Number of rows : \"))\n",
        "column = int(input(\"Enter the Number of Columns: \"))\n",
        "\n",
        "print(\"Enter the elements of First Matrix:\")\n",
        "matrix_a = [[int(input()) for i in range(column)] for i in range(rows)]\n",
        "print(\"First Matrix is: \")\n",
        "for n in matrix_a:\n",
        "    print(n)\n",
        "\n",
        "print(\"Enter the elements of Second Matrix:\")\n",
        "matrix_b = [[int(input()) for i in range(column)] for i in range(rows)]\n",
        "print(\"second Matrix is: \")\n",
        "for n in matrix_b:\n",
        "    print(n)\n",
        "\n",
        "result = [[0 for i in range(column)] for i in range(rows)]\n",
        "for i in range(rows):\n",
        "    for j in range(column):\n",
        "        result[i][j] = matrix_a[i][j] + matrix_b[i][j]\n",
        "\n",
        "print(\"The Sum of Above two Matrices is : \")\n",
        "for r in result:\n",
        "    print(r)"
      ],
      "metadata": {
        "colab": {
          "base_uri": "https://localhost:8080/"
        },
        "id": "nrLVr0A3D3r0",
        "outputId": "5844d27a-4926-45c3-9cb0-a7ca5e5f2d44"
      },
      "execution_count": null,
      "outputs": [
        {
          "output_type": "stream",
          "name": "stdout",
          "text": [
            "Enter the Number of rows : 2\n",
            "Enter the Number of Columns: 2\n",
            "Enter the elements of First Matrix:\n",
            "21\n",
            "5\n",
            "215\n",
            "521\n",
            "First Matrix is: \n",
            "[21, 5]\n",
            "[215, 521]\n",
            "Enter the elements of Second Matrix:\n",
            "5\n",
            "21\n",
            "215\n",
            "521\n",
            "second Matrix is: \n",
            "[5, 21]\n",
            "[215, 521]\n",
            "The Sum of Above two Matrices is : \n",
            "[26, 26]\n",
            "[430, 1042]\n"
          ]
        }
      ]
    },
    {
      "cell_type": "code",
      "source": [
        "rows = int(input(\"Enter the Number of rows : \"))\n",
        "column = int(input(\"Enter the Number of Columns: \"))\n",
        "\n",
        "print(\"Enter the elements of Matrix:\")\n",
        "matrix = []\n",
        "for i in range(rows):\n",
        "    row = []\n",
        "    for j in range(column):\n",
        "        row.append(int(input(f\"Enter element at row {i+1}, column {j+1}: \")))\n",
        "    matrix.append(row)\n",
        "\n",
        "print(\"-------Your Matrix is---------\")\n",
        "for n in matrix:\n",
        "    print(n)\n",
        "\n",
        "# result matrix of column*row dimension\n",
        "result = [[0 for i in range(rows)] for j in range(column)]\n",
        "\n",
        "# transpose the matrix\n",
        "for r in range(rows):\n",
        "    for c in range(column):\n",
        "        # here we are grabbing the row data of matrix and putting it in the column on the result\n",
        "        result[c][r] = matrix[r][c]\n",
        "\n",
        "print(\"Transpose matrix is: \")\n",
        "for r in result:\n",
        "    print(r)"
      ],
      "metadata": {
        "colab": {
          "base_uri": "https://localhost:8080/"
        },
        "id": "ZPnDpGoNE0xN",
        "outputId": "7deb480f-3a2d-42ce-b513-f4f248cf1a5a"
      },
      "execution_count": null,
      "outputs": [
        {
          "output_type": "stream",
          "name": "stdout",
          "text": [
            "Enter the Number of rows : 2\n",
            "Enter the Number of Columns: 2\n",
            "Enter the elements of Matrix:\n",
            "Enter element at row 1, column 1: 21\n",
            "Enter element at row 1, column 2: 215\n",
            "Enter element at row 2, column 1: 521\n",
            "Enter element at row 2, column 2: 5\n",
            "-------Your Matrix is---------\n",
            "[21, 215]\n",
            "[521, 5]\n",
            "Transpose matrix is: \n",
            "[21, 521]\n",
            "[215, 5]\n"
          ]
        }
      ]
    },
    {
      "cell_type": "code",
      "source": [
        "punctuations = r'''`~!@#$%^&*()_-[]{}\\|'\";:/?.,<>'''\n",
        "no_punc = \"\"\n",
        "str_input = input(\"Enter string:\")\n",
        "\n",
        "for char in str_input:\n",
        "    if char not in punctuations:\n",
        "        no_punc = no_punc + char\n",
        "\n",
        "print(no_punc)"
      ],
      "metadata": {
        "colab": {
          "base_uri": "https://localhost:8080/"
        },
        "id": "H6L3TnYkGN-t",
        "outputId": "d0bf9d9f-4db9-4ae8-f517-d476e6c2a510"
      },
      "execution_count": null,
      "outputs": [
        {
          "output_type": "stream",
          "name": "stdout",
          "text": [
            "Enter string:Hello! How are you? What is that?...... I said, \"do it\".\n",
            "Hello How are you What is that I said do it\n"
          ]
        }
      ]
    },
    {
      "cell_type": "code",
      "source": [
        "str_input = input(\"Enter a string: \")\n",
        "str_input = str_input.lower() # breakdown the string into a list of words\n",
        "words = str_input.split() # sort the list\n",
        "words.sort() # display the sorted words\n",
        "for word in words:\n",
        "  print(word)"
      ],
      "metadata": {
        "colab": {
          "base_uri": "https://localhost:8080/"
        },
        "id": "1ty2FrWlG6x7",
        "outputId": "4d6136fb-b199-4ecd-b67a-c8dd8fe8e3d5"
      },
      "execution_count": null,
      "outputs": [
        {
          "output_type": "stream",
          "name": "stdout",
          "text": [
            "Enter a string: Hello, I am Nothing.\n",
            "am\n",
            "hello,\n",
            "i\n",
            "nothing.\n"
          ]
        }
      ]
    }
  ]
}