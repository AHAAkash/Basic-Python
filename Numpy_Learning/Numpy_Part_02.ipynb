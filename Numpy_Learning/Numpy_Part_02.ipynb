{
  "nbformat": 4,
  "nbformat_minor": 0,
  "metadata": {
    "colab": {
      "provenance": []
    },
    "kernelspec": {
      "name": "python3",
      "display_name": "Python 3"
    },
    "language_info": {
      "name": "python"
    }
  },
  "cells": [
    {
      "cell_type": "markdown",
      "source": [
        "# **Slicing**\n",
        "\n",
        "array[start:stop:step]"
      ],
      "metadata": {
        "id": "MtfaYK029tjH"
      }
    },
    {
      "cell_type": "code",
      "execution_count": 1,
      "metadata": {
        "colab": {
          "base_uri": "https://localhost:8080/"
        },
        "id": "4q2WNSpe9obc",
        "outputId": "1382dded-6368-4128-8b5b-7914baa5b0d6"
      },
      "outputs": [
        {
          "output_type": "stream",
          "name": "stdout",
          "text": [
            "Slice 1 (2:7): [2, 3, 4, 5, 6]\n",
            "Slice 2 (:5): [0, 1, 2, 3, 4]\n",
            "Slice 3 (3:): [3, 4, 5, 6, 7, 8, 9]\n",
            "Slice 4 (:): [0, 1, 2, 3, 4, 5, 6, 7, 8, 9]\n",
            "Slice 5 (::2): [0, 2, 4, 6, 8]\n",
            "Slice 6 (1:8:3): [1, 4, 7]\n",
            "Slice 7 (::-1): [9, 8, 7, 6, 5, 4, 3, 2, 1, 0]\n",
            "String Slice 1 (7:): World!\n",
            "String Slice 2 (:5): Hello\n",
            "String Slice 3 (::2): Hlo ol!\n"
          ]
        }
      ],
      "source": [
        "import numpy as np\n",
        "# Example of slicing a list\n",
        "my_list = [0, 1, 2, 3, 4, 5, 6, 7, 8, 9]\n",
        "\n",
        "# Slice from index 2 to 7 (exclusive)\n",
        "slice1 = my_list[2:7]\n",
        "print(f\"Slice 1 (2:7): {slice1}\")\n",
        "\n",
        "# Slice from the beginning to index 5 (exclusive)\n",
        "slice2 = my_list[:5]\n",
        "print(f\"Slice 2 (:5): {slice2}\")\n",
        "\n",
        "# Slice from index 3 to the end\n",
        "slice3 = my_list[3:]\n",
        "print(f\"Slice 3 (3:): {slice3}\")\n",
        "\n",
        "# Slice the entire list\n",
        "slice4 = my_list[:]\n",
        "print(f\"Slice 4 (:): {slice4}\")\n",
        "\n",
        "# Slice with a step of 2\n",
        "slice5 = my_list[::2]\n",
        "print(f\"Slice 5 (::2): {slice5}\")\n",
        "\n",
        "# Slice from index 1 to 8 with a step of 3\n",
        "slice6 = my_list[1:8:3]\n",
        "print(f\"Slice 6 (1:8:3): {slice6}\")\n",
        "\n",
        "# Reverse the list using slicing\n",
        "slice7 = my_list[::-1]\n",
        "print(f\"Slice 7 (::-1): {slice7}\")\n",
        "\n",
        "# Example of slicing a string\n",
        "my_string = \"Hello, World!\"\n",
        "\n",
        "# Slice from index 7 to the end\n",
        "string_slice1 = my_string[7:]\n",
        "print(f\"String Slice 1 (7:): {string_slice1}\")\n",
        "\n",
        "# Slice from the beginning to index 5\n",
        "string_slice2 = my_string[:5]\n",
        "print(f\"String Slice 2 (:5): {string_slice2}\")\n",
        "\n",
        "# Slice with a step of 2\n",
        "string_slice3 = my_string[::2]\n",
        "print(f\"String Slice 3 (::2): {string_slice3}\")"
      ]
    },
    {
      "cell_type": "markdown",
      "source": [
        "# **Fancy indexing**\n",
        "\n",
        "Selecting multiple elements at once"
      ],
      "metadata": {
        "id": "JgFLXElq-aRO"
      }
    },
    {
      "cell_type": "code",
      "source": [
        "import numpy as np\n",
        "\n",
        "# Create a NumPy array\n",
        "arr = np.array([0, 1, 2, 3, 4, 5, 6, 7, 8, 9])\n",
        "\n",
        "# Fancy indexing with a list of indices\n",
        "indices = [0, 2, 4, 6, 8]\n",
        "fancy_slice1 = arr[indices]\n",
        "print(f\"Fancy slice 1 (indices {indices}): {fancy_slice1}\")\n",
        "\n",
        "# Fancy indexing with a boolean array\n",
        "boolean_indices = arr > 5\n",
        "fancy_slice2 = arr[boolean_indices]\n",
        "print(f\"Fancy slice 2 (elements > 5): {fancy_slice2}\")\n",
        "\n",
        "# Fancy indexing with a 2D array\n",
        "arr_2d = np.array([[1, 2, 3], [4, 5, 6], [7, 8, 9]])\n",
        "row_indices = [0, 1, 2]\n",
        "col_indices = [1, 2, 0]\n",
        "fancy_slice3 = arr_2d[row_indices, col_indices]\n",
        "print(f\"Fancy slice 3 (elements at specific row/column pairs): {fancy_slice3}\")"
      ],
      "metadata": {
        "colab": {
          "base_uri": "https://localhost:8080/"
        },
        "id": "usKKTD0--dz8",
        "outputId": "edd9485a-b1c2-4edf-d7a1-26a6d65d1c7b"
      },
      "execution_count": 2,
      "outputs": [
        {
          "output_type": "stream",
          "name": "stdout",
          "text": [
            "Fancy slice 1 (indices [0, 2, 4, 6, 8]): [0 2 4 6 8]\n",
            "Fancy slice 2 (elements > 5): [6 7 8 9]\n",
            "Fancy slice 3 (elements at specific row/column pairs): [2 6 7]\n"
          ]
        }
      ]
    },
    {
      "cell_type": "markdown",
      "source": [
        "# **Reshaping and manipulating in arrays**"
      ],
      "metadata": {
        "id": "aIlM5DZr_Zlm"
      }
    },
    {
      "cell_type": "code",
      "source": [
        "import numpy as np\n",
        "\n",
        "# Create a NumPy array\n",
        "arr = np.arange(12)\n",
        "print(f\"Original array: {arr}\")\n",
        "\n",
        "# Reshape the array\n",
        "reshaped_arr = arr.reshape(3, 4)\n",
        "print(f\"Reshaped array (3x4): {reshaped_arr}\")\n",
        "\n",
        "# Flatten the array\n",
        "flattened_arr = reshaped_arr.flatten()\n",
        "print(f\"Flattened array: {flattened_arr}\")\n",
        "\n",
        "# Transpose the array\n",
        "transposed_arr = reshaped_arr.T\n",
        "print(f\"Transposed array: {transposed_arr}\")\n",
        "\n",
        "# Concatenate arrays\n",
        "arr1 = np.array([1, 2, 3])\n",
        "arr2 = np.array([4, 5, 6])\n",
        "concatenated_arr = np.concatenate((arr1, arr2))\n",
        "print(f\"Concatenated array: {concatenated_arr}\")\n",
        "\n",
        "# Split array\n",
        "split_arr = np.split(concatenated_arr, 2)\n",
        "print(f\"Split array: {split_arr}\")\n",
        "\n",
        "# Add elements\n",
        "arr_with_added_elements = np.append(arr1, [7, 8])\n",
        "print(f\"Array with added elements: {arr_with_added_elements}\")\n",
        "\n",
        "# Delete elements\n",
        "arr_with_deleted_elements = np.delete(arr_with_added_elements, [3, 4])\n",
        "print(f\"Array with deleted elements: {arr_with_deleted_elements}\")"
      ],
      "metadata": {
        "colab": {
          "base_uri": "https://localhost:8080/"
        },
        "id": "C0Q6Ai_T_YxM",
        "outputId": "de14349f-8e5e-4eab-9db0-6af7d23bbf17"
      },
      "execution_count": 3,
      "outputs": [
        {
          "output_type": "stream",
          "name": "stdout",
          "text": [
            "Original array: [ 0  1  2  3  4  5  6  7  8  9 10 11]\n",
            "Reshaped array (3x4): [[ 0  1  2  3]\n",
            " [ 4  5  6  7]\n",
            " [ 8  9 10 11]]\n",
            "Flattened array: [ 0  1  2  3  4  5  6  7  8  9 10 11]\n",
            "Transposed array: [[ 0  4  8]\n",
            " [ 1  5  9]\n",
            " [ 2  6 10]\n",
            " [ 3  7 11]]\n",
            "Concatenated array: [1 2 3 4 5 6]\n",
            "Split array: [array([1, 2, 3]), array([4, 5, 6])]\n",
            "Array with added elements: [1 2 3 7 8]\n",
            "Array with deleted elements: [1 2 3]\n"
          ]
        }
      ]
    },
    {
      "cell_type": "markdown",
      "source": [
        "# **Ravel & Flatten**\n",
        " `ravel()` and `flatten() `methods in NumPy for converting a multi-dimensional array into a one-dimensional array.\n",
        "\n",
        "`ravel()` returns a view of the original array if possible, meaning changes to the raveled array might affect the original array.\n",
        "\n",
        "\n",
        "`flatten()` always returns a copy of the original array, so changes to the flattened array will not affect the original array."
      ],
      "metadata": {
        "id": "FlH3GC_JBHpc"
      }
    },
    {
      "cell_type": "code",
      "source": [
        "import numpy as np\n",
        "\n",
        "# Create a NumPy array\n",
        "arr_2d = np.array([[1, 2, 3], [4, 5, 6], [7, 8, 9]])\n",
        "print(f\"Original 2D array:\\n{arr_2d}\")\n",
        "\n",
        "# Using ravel() - returns a view if possible, otherwise a copy\n",
        "raveled_arr = arr_2d.ravel()\n",
        "print(f\"Array after ravel(): {raveled_arr}\")\n",
        "\n",
        "# Using flatten() - always returns a copy\n",
        "flattened_arr = arr_2d.flatten()\n",
        "print(f\"Array after flatten(): {flattened_arr}\")\n",
        "\n",
        "# Demonstrate the difference between ravel() and flatten()\n",
        "# Modifying the raveled array might affect the original array (if it's a view)\n",
        "raveled_arr[0] = 100\n",
        "print(f\"Original 2D array after modifying raveled array:\\n{arr_2d}\")\n",
        "\n",
        "# Modifying the flattened array does not affect the original array (it's a copy)\n",
        "flattened_arr[0] = 200\n",
        "print(f\"Original 2D array after modifying flattened array:\\n{arr_2d}\")\n",
        "print(f\"Modified flattened array: {flattened_arr}\")"
      ],
      "metadata": {
        "colab": {
          "base_uri": "https://localhost:8080/"
        },
        "id": "pETfD0PAAFO3",
        "outputId": "71d69124-b186-4ac1-d1a8-3bee057474fb"
      },
      "execution_count": 4,
      "outputs": [
        {
          "output_type": "stream",
          "name": "stdout",
          "text": [
            "Original 2D array:\n",
            "[[1 2 3]\n",
            " [4 5 6]\n",
            " [7 8 9]]\n",
            "Array after ravel(): [1 2 3 4 5 6 7 8 9]\n",
            "Array after flatten(): [1 2 3 4 5 6 7 8 9]\n",
            "Original 2D array after modifying raveled array:\n",
            "[[100   2   3]\n",
            " [  4   5   6]\n",
            " [  7   8   9]]\n",
            "Original 2D array after modifying flattened array:\n",
            "[[100   2   3]\n",
            " [  4   5   6]\n",
            " [  7   8   9]]\n",
            "Modified flattened array: [200   2   3   4   5   6   7   8   9]\n"
          ]
        }
      ]
    },
    {
      "cell_type": "markdown",
      "source": [
        "# **Array Modification**"
      ],
      "metadata": {
        "id": "yOk9hMobByx9"
      }
    },
    {
      "cell_type": "code",
      "source": [
        "import numpy as np\n",
        "\n",
        "# Create a NumPy array\n",
        "arr = np.array([1, 2, 3, 4, 5])\n",
        "print(f\"Original array: {arr}\")\n",
        "\n",
        "# Append elements\n",
        "arr_append = np.append(arr, [6, 7])\n",
        "print(f\"Array after appending elements: {arr_append}\")\n",
        "\n",
        "# Insert elements\n",
        "arr_insert = np.insert(arr, 2, [10, 11]) # Insert [10, 11] before index 2 ------>>>>>> array[array,index,value,axis=0(Rowise)/1(Columnise)]\n",
        "print(f\"Array after inserting elements: {arr_insert}\")\n",
        "\n",
        "# Delete elements\n",
        "arr_delete = np.delete(arr, [0, 4]) # Delete elements at index 0 and 4\n",
        "print(f\"Array after deleting elements: {arr_delete}\")\n",
        "\n",
        "# Modify element at a specific index\n",
        "arr_modify = arr.copy() # Create a copy to avoid modifying the original\n",
        "arr_modify[2] = 100\n",
        "print(f\"Array after modifying element at index 2: {arr_modify}\")\n",
        "\n",
        "# Modify elements based on a condition\n",
        "arr_conditional_modify = arr.copy()\n",
        "arr_conditional_modify[arr_conditional_modify > 3] = 99\n",
        "print(f\"Array after conditional modification: {arr_conditional_modify}\")\n",
        "\n",
        "\n",
        "#### arr.append -->> Add element in last of an array\n",
        "#### arr.insert -->> Add element in an specific position of an array"
      ],
      "metadata": {
        "colab": {
          "base_uri": "https://localhost:8080/"
        },
        "id": "2HOatrhcBjV8",
        "outputId": "6fe11349-0be5-477b-c8dd-b12a0ed6d070"
      },
      "execution_count": 7,
      "outputs": [
        {
          "output_type": "stream",
          "name": "stdout",
          "text": [
            "Original array: [1 2 3 4 5]\n",
            "Array after appending elements: [1 2 3 4 5 6 7]\n",
            "Array after inserting elements: [ 1  2 10 11  3  4  5]\n",
            "Array after deleting elements: [2 3 4]\n",
            "Array after modifying element at index 2: [  1   2 100   4   5]\n",
            "Array after conditional modification: [ 1  2  3 99 99]\n"
          ]
        }
      ]
    },
    {
      "cell_type": "markdown",
      "source": [
        "`vstack` and ` hstack `"
      ],
      "metadata": {
        "id": "kDv0Myd-F8bW"
      }
    },
    {
      "cell_type": "code",
      "source": [
        "import numpy as np\n",
        "\n",
        "# Create two NumPy arrays\n",
        "arr1 = np.array([1, 2, 3])\n",
        "arr2 = np.array([4, 5, 6])\n",
        "\n",
        "# Stack arrays vertically\n",
        "vstack_arr = np.vstack((arr1, arr2))\n",
        "print(f\"Vertical stacking (vstack):\\n{vstack_arr}\")\n",
        "\n",
        "# Create two more NumPy arrays\n",
        "arr3 = np.array([[7, 8], [9, 10]])\n",
        "arr4 = np.array([[11, 12], [13, 14]])\n",
        "\n",
        "# Stack arrays horizontally\n",
        "hstack_arr = np.hstack((arr3, arr4))\n",
        "print(f\"Horizontal stacking (hstack):\\n{hstack_arr}\")"
      ],
      "metadata": {
        "colab": {
          "base_uri": "https://localhost:8080/"
        },
        "id": "EHpYKAWgGEyK",
        "outputId": "4d4e344c-809d-4dd9-99e6-7b9b68d9ef88"
      },
      "execution_count": 8,
      "outputs": [
        {
          "output_type": "stream",
          "name": "stdout",
          "text": [
            "Vertical stacking (vstack):\n",
            "[[1 2 3]\n",
            " [4 5 6]]\n",
            "Horizontal stacking (hstack):\n",
            "[[ 7  8 11 12]\n",
            " [ 9 10 13 14]]\n"
          ]
        }
      ]
    },
    {
      "cell_type": "code",
      "source": [
        "import numpy as np\n",
        "\n",
        "# Create a NumPy array\n",
        "arr = np.array([0, 1, 2, 3, 4, 5, 6, 7, 8, 9])\n",
        "print(f\"Original array: {arr}\")\n",
        "\n",
        "# Split the array into 5 equal parts\n",
        "split_arr1 = np.split(arr, 5)\n",
        "print(f\"Array split into 5 equal parts: {split_arr1}\")\n",
        "\n",
        "# Split the array at specific indices\n",
        "split_arr2 = np.split(arr, [2, 5, 8]) # Split before index 2, 5, and 8\n",
        "print(f\"Array split at indices [2, 5, 8]: {split_arr2}\")\n",
        "\n",
        "# Create a 2D NumPy array\n",
        "arr_2d = np.array([[1, 2, 3, 4], [5, 6, 7, 8], [9, 10, 11, 12]])\n",
        "print(f\"Original 2D array:\\n{arr_2d}\")\n",
        "\n",
        "# Split the 2D array horizontally (along columns)\n",
        "split_arr_2d_h = np.hsplit(arr_2d, 2) # Split into 2 equal columns\n",
        "print(f\"2D array split horizontally:\\n{split_arr_2d_h}\")\n",
        "\n",
        "# Split the 2D array vertically (along rows)\n",
        "split_arr_2d_v = np.vsplit(arr_2d, 3) # Split into 3 equal rows\n",
        "print(f\"2D array split vertically:\\n{split_arr_2d_v}\")"
      ],
      "metadata": {
        "colab": {
          "base_uri": "https://localhost:8080/"
        },
        "id": "X6i6Ix1oGg4q",
        "outputId": "ae7c02b0-ec93-4ced-c654-e51a8c2e6318"
      },
      "execution_count": 9,
      "outputs": [
        {
          "output_type": "stream",
          "name": "stdout",
          "text": [
            "Original array: [0 1 2 3 4 5 6 7 8 9]\n",
            "Array split into 5 equal parts: [array([0, 1]), array([2, 3]), array([4, 5]), array([6, 7]), array([8, 9])]\n",
            "Array split at indices [2, 5, 8]: [array([0, 1]), array([2, 3, 4]), array([5, 6, 7]), array([8, 9])]\n",
            "Original 2D array:\n",
            "[[ 1  2  3  4]\n",
            " [ 5  6  7  8]\n",
            " [ 9 10 11 12]]\n",
            "2D array split horizontally:\n",
            "[array([[ 1,  2],\n",
            "       [ 5,  6],\n",
            "       [ 9, 10]]), array([[ 3,  4],\n",
            "       [ 7,  8],\n",
            "       [11, 12]])]\n",
            "2D array split vertically:\n",
            "[array([[1, 2, 3, 4]]), array([[5, 6, 7, 8]]), array([[ 9, 10, 11, 12]])]\n"
          ]
        }
      ]
    }
  ]
}