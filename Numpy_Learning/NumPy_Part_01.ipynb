{
  "nbformat": 4,
  "nbformat_minor": 0,
  "metadata": {
    "colab": {
      "provenance": []
    },
    "kernelspec": {
      "name": "python3",
      "display_name": "Python 3"
    },
    "language_info": {
      "name": "python"
    }
  },
  "cells": [
    {
      "cell_type": "markdown",
      "source": [
        "# **NumPy Introduction**"
      ],
      "metadata": {
        "id": "ilnhH95fXEVC"
      }
    },
    {
      "cell_type": "markdown",
      "source": [
        "# **What is NumPy?**\n",
        "NumPy is a Python library used for working with arrays.\n",
        "\n",
        "It also has functions for working in domain of linear algebra, fourier transform, and matrices.\n",
        "\n",
        "NumPy was created in 2005 by Travis Oliphant. It is an open source project and you can use it freely.\n",
        "\n",
        "NumPy stands for Numerical Python."
      ],
      "metadata": {
        "id": "zj3w03qYXKgT"
      }
    },
    {
      "cell_type": "markdown",
      "source": [
        "# **Why Use NumPy?**\n",
        "In Python we have lists that serve the purpose of arrays, but they are slow to process.\n",
        "\n",
        "NumPy aims to provide an array object that is up to 50x faster than traditional Python lists.\n",
        "\n",
        "The array object in NumPy is called ndarray, it provides a lot of supporting functions that make working with ndarray very easy.\n",
        "\n",
        "Arrays are very frequently used in data science, where speed and resources are very important."
      ],
      "metadata": {
        "id": "0sb5ZDL7XPKa"
      }
    },
    {
      "cell_type": "markdown",
      "source": [
        "# **Why is NumPy Faster Than Lists?**\n",
        "NumPy arrays are stored at one continuous place in memory unlike lists, so processes can access and manipulate them very efficiently.\n",
        "\n",
        "This behavior is called locality of reference in computer science.\n",
        "\n",
        "This is the main reason why NumPy is faster than lists. Also it is optimized to work with latest CPU architectures.\n",
        "\n"
      ],
      "metadata": {
        "id": "6cYQvlpiXU94"
      }
    },
    {
      "cell_type": "markdown",
      "source": [
        "# **Which Language is NumPy written in?**\n",
        "NumPy is a Python library and is written partially in Python, but most of the parts that require fast computation are written in C or C++.\n",
        "\n"
      ],
      "metadata": {
        "id": "2ZWufEP1XZXM"
      }
    },
    {
      "cell_type": "markdown",
      "source": [
        "# **Where is the NumPy Codebase?**\n",
        "The source code for NumPy is located at this github repository `https://github.com/numpy/numpy`"
      ],
      "metadata": {
        "id": "hiBKoSi9XcVi"
      }
    },
    {
      "cell_type": "code",
      "execution_count": 1,
      "metadata": {
        "colab": {
          "base_uri": "https://localhost:8080/"
        },
        "id": "upsaVQtsW866",
        "outputId": "5d46c242-fe46-4c38-8214-66a4b93a250f"
      },
      "outputs": [
        {
          "output_type": "stream",
          "name": "stdout",
          "text": [
            "[1 2 3 4 5]\n"
          ]
        }
      ],
      "source": [
        "import numpy as np\n",
        "arr = np.array([1, 2, 3, 4, 5])\n",
        "print(arr)"
      ]
    },
    {
      "cell_type": "code",
      "source": [
        "type(arr)"
      ],
      "metadata": {
        "colab": {
          "base_uri": "https://localhost:8080/"
        },
        "id": "gNRkB62tXuat",
        "outputId": "2537cd8c-b51d-4f80-d789-631ac3f5aae2"
      },
      "execution_count": 2,
      "outputs": [
        {
          "output_type": "execute_result",
          "data": {
            "text/plain": [
              "numpy.ndarray"
            ]
          },
          "metadata": {},
          "execution_count": 2
        }
      ]
    },
    {
      "cell_type": "code",
      "source": [
        "# NumPy Arrays provides the ndim attribute that returns an integer that tells us how many dimensions the array have.\n",
        "import numpy as np\n",
        "\n",
        "a = np.array(42)   # 0 dimention array\n",
        "b = np.array([1, 2, 3, 4, 5])  # 1 dimention array\n",
        "c = np.array([[1, 2, 3],\n",
        "              [4, 5, 6]]\n",
        "             )                      # 2 dimention array\n",
        "d = np.array([[[1, 2, 3], [4, 5, 6]],\n",
        "              [[1, 2, 3], [4, 5, 6]]])  # multi- dimention array\n",
        "\n",
        "print(a.ndim)\n",
        "print(b.ndim)\n",
        "print(c.ndim)\n",
        "print(d.ndim)\n"
      ],
      "metadata": {
        "colab": {
          "base_uri": "https://localhost:8080/"
        },
        "id": "OV9Xbf3RYAPz",
        "outputId": "32a3833b-8155-4f3c-eec1-bd578d730af3"
      },
      "execution_count": 5,
      "outputs": [
        {
          "output_type": "stream",
          "name": "stdout",
          "text": [
            "0\n",
            "1\n",
            "2\n",
            "3\n"
          ]
        }
      ]
    },
    {
      "cell_type": "markdown",
      "source": [
        "**Array creation with default value:**\n",
        "\n",
        "np.zeros(shape) ; where shape is 1,2,3,4,5....."
      ],
      "metadata": {
        "id": "bP2_e3OIXrsG"
      }
    },
    {
      "cell_type": "code",
      "source": [
        "import numpy as np\n",
        "zeros_array = np.zeros(3)   #For zero array  where zero is the default value\n",
        "print(zeros_array)\n",
        "ones_array = np.ones(3)     # For one array where one is the default value\n",
        "print(ones_array)\n",
        "full_array = np.full((2,2),7) # Full(shape,value) function\n",
        "print(full_array)"
      ],
      "metadata": {
        "colab": {
          "base_uri": "https://localhost:8080/"
        },
        "id": "CfKSKcWrc3Td",
        "outputId": "24baaffa-2aaf-4245-99eb-e14e7728d799"
      },
      "execution_count": 11,
      "outputs": [
        {
          "output_type": "stream",
          "name": "stdout",
          "text": [
            "[0. 0. 0.]\n",
            "[1. 1. 1.]\n",
            "[[7 7]\n",
            " [7 7]]\n"
          ]
        }
      ]
    },
    {
      "cell_type": "markdown",
      "source": [
        "# **Creating sequence of numbers**\n",
        "\n",
        "np.arange(start,stop,step)"
      ],
      "metadata": {
        "id": "UevB4wk7ezo7"
      }
    },
    {
      "cell_type": "code",
      "source": [
        "import numpy as np\n",
        "seq_array = np.arange(10)\n",
        "print(seq_array)\n",
        "s_arr = np.arange(10,20,2)\n",
        "print(s_arr)"
      ],
      "metadata": {
        "colab": {
          "base_uri": "https://localhost:8080/"
        },
        "id": "yNHX1KoGe4gx",
        "outputId": "39be1f8c-94c9-4a9c-d680-dea5ad712b68"
      },
      "execution_count": 13,
      "outputs": [
        {
          "output_type": "stream",
          "name": "stdout",
          "text": [
            "[0 1 2 3 4 5 6 7 8 9]\n",
            "[10 12 14 16 18]\n"
          ]
        }
      ]
    },
    {
      "cell_type": "code",
      "source": [
        "# Creating identity matrix\n",
        "#\n",
        "#\n",
        "#\n",
        "#\n",
        "\n",
        "import numpy as np\n",
        "identity_matrix = np.eye(3)\n",
        "print(identity_matrix)\n",
        "\n"
      ],
      "metadata": {
        "colab": {
          "base_uri": "https://localhost:8080/"
        },
        "id": "fd2MQ95OfYhM",
        "outputId": "4cb7d716-29f0-4dd6-f3c4-8b8aa7a909d8"
      },
      "execution_count": 14,
      "outputs": [
        {
          "output_type": "stream",
          "name": "stdout",
          "text": [
            "[[1. 0. 0.]\n",
            " [0. 1. 0.]\n",
            " [0. 0. 1.]]\n"
          ]
        }
      ]
    },
    {
      "cell_type": "code",
      "source": [
        "####  Use of shape  to know the details shape of this matrix it is usefull for big dataset to know her size\n",
        "\n",
        "import numpy as np\n",
        "arr = np.array([[1, 2, 3, 4], [5, 6, 7, 8]])\n",
        "print(arr.shape)"
      ],
      "metadata": {
        "colab": {
          "base_uri": "https://localhost:8080/"
        },
        "id": "RLpbHbjpgWpi",
        "outputId": "18a831da-db23-40a2-c40a-4b536fe26301"
      },
      "execution_count": 15,
      "outputs": [
        {
          "output_type": "stream",
          "name": "stdout",
          "text": [
            "(2, 4)\n"
          ]
        }
      ]
    },
    {
      "cell_type": "code",
      "source": [
        "####    Use size for know the size of matrix or say that how many elements are there in this matrix\n",
        "#\n",
        "#\n",
        "#\n",
        "#\n",
        "\n",
        "import numpy as np\n",
        "arr = np.array([[1, 2, 3, 4], [5, 6, 7, 8]])\n",
        "print(arr.size)"
      ],
      "metadata": {
        "colab": {
          "base_uri": "https://localhost:8080/"
        },
        "id": "pPlbK61ag82b",
        "outputId": "6e8d8923-57b8-46f7-8209-11741aada4d1"
      },
      "execution_count": 16,
      "outputs": [
        {
          "output_type": "stream",
          "name": "stdout",
          "text": [
            "8\n"
          ]
        }
      ]
    },
    {
      "cell_type": "code",
      "source": [
        "##  type change in array using astype() for some time need to work with different type data\n",
        "\n",
        "import numpy as np\n",
        "arr = np.array([1, 2, 3, 4])\n",
        "print(arr.dtype)\n",
        "newarr = arr.astype('S') # S means string\n",
        "print(newarr)\n",
        "print(newarr.dtype)\n",
        "newarr1 = arr.astype(float)\n",
        "print(newarr1)\n",
        "print(newarr1.dtype)\n",
        "newarr2 = arr.astype(bool)\n",
        "print(newarr2)\n",
        "print(newarr2.dtype)\n",
        "newarr3 = arr.astype(complex)\n",
        "print(newarr3)\n",
        "print(newarr3.dtype)\n",
        "newarr4 = arr.astype(str)  #str means string\n",
        "print(newarr4)\n",
        "print(newarr4.dtype)"
      ],
      "metadata": {
        "colab": {
          "base_uri": "https://localhost:8080/"
        },
        "id": "pnZ4KaZzil_Z",
        "outputId": "cb755293-22c4-4aaf-b819-49e6a9666996"
      },
      "execution_count": 21,
      "outputs": [
        {
          "output_type": "stream",
          "name": "stdout",
          "text": [
            "int64\n",
            "[b'1' b'2' b'3' b'4']\n",
            "|S21\n",
            "[1. 2. 3. 4.]\n",
            "float64\n",
            "[ True  True  True  True]\n",
            "bool\n",
            "[1.+0.j 2.+0.j 3.+0.j 4.+0.j]\n",
            "complex128\n",
            "['1' '2' '3' '4']\n",
            "<U21\n"
          ]
        }
      ]
    },
    {
      "cell_type": "markdown",
      "source": [
        "# **Math Function**"
      ],
      "metadata": {
        "id": "-yKc9aTBgWIp"
      }
    },
    {
      "cell_type": "code",
      "source": [
        "import numpy as np\n",
        "\n",
        "arr = np.array([1, 2, 3, 4, 5, 6, 7, 8])\n",
        "\n",
        "# Basic arithmetic operations\n",
        "print(\"Addition:\", np.add(arr, 10))\n",
        "print(\"Subtraction:\", np.subtract(arr, 2))\n",
        "print(\"Multiplication:\", np.multiply(arr, 5))\n",
        "print(\"Division:\", np.divide(arr, 2))\n",
        "print(\"Power:\", np.power(arr, 2))\n",
        "\n",
        "# Trigonometric functions\n",
        "print(\"Sine:\", np.sin(arr))\n",
        "print(\"Cosine:\", np.cos(arr))\n",
        "print(\"Tangent:\", np.tan(arr))\n",
        "\n",
        "# Exponential and logarithmic functions\n",
        "print(\"Exponential:\", np.exp(arr))\n",
        "print(\"Natural logarithm:\", np.log(arr))\n",
        "print(\"Base-10 logarithm:\", np.log10(arr))\n",
        "\n",
        "# Square root\n",
        "print(\"Square root:\", np.sqrt(arr))\n",
        "\n",
        "# Absolute value\n",
        "print(\"Absolute value:\", np.abs([-1, -2, 3, 4]))\n",
        "\n",
        "# Rounding\n",
        "print(\"Round:\", np.round([1.2, 2.5, 3.8]))\n",
        "print(\"Floor:\", np.floor([1.2, 2.5, 3.8]))\n",
        "print(\"Ceil:\", np.ceil([1.2, 2.5, 3.8]))"
      ],
      "metadata": {
        "colab": {
          "base_uri": "https://localhost:8080/"
        },
        "id": "y-Vfftenko2Z",
        "outputId": "6d37823d-a401-48e6-c82a-5c35b7ff26c7"
      },
      "execution_count": 22,
      "outputs": [
        {
          "output_type": "stream",
          "name": "stdout",
          "text": [
            "Addition: [11 12 13 14 15 16 17 18]\n",
            "Subtraction: [-1  0  1  2  3  4  5  6]\n",
            "Multiplication: [ 5 10 15 20 25 30 35 40]\n",
            "Division: [0.5 1.  1.5 2.  2.5 3.  3.5 4. ]\n",
            "Power: [ 1  4  9 16 25 36 49 64]\n",
            "Sine: [ 0.84147098  0.90929743  0.14112001 -0.7568025  -0.95892427 -0.2794155\n",
            "  0.6569866   0.98935825]\n",
            "Cosine: [ 0.54030231 -0.41614684 -0.9899925  -0.65364362  0.28366219  0.96017029\n",
            "  0.75390225 -0.14550003]\n",
            "Tangent: [ 1.55740772 -2.18503986 -0.14254654  1.15782128 -3.38051501 -0.29100619\n",
            "  0.87144798 -6.79971146]\n",
            "Exponential: [2.71828183e+00 7.38905610e+00 2.00855369e+01 5.45981500e+01\n",
            " 1.48413159e+02 4.03428793e+02 1.09663316e+03 2.98095799e+03]\n",
            "Natural logarithm: [0.         0.69314718 1.09861229 1.38629436 1.60943791 1.79175947\n",
            " 1.94591015 2.07944154]\n",
            "Base-10 logarithm: [0.         0.30103    0.47712125 0.60205999 0.69897    0.77815125\n",
            " 0.84509804 0.90308999]\n",
            "Square root: [1.         1.41421356 1.73205081 2.         2.23606798 2.44948974\n",
            " 2.64575131 2.82842712]\n",
            "Absolute value: [1 2 3 4]\n",
            "Round: [1. 2. 4.]\n",
            "Floor: [1. 2. 3.]\n",
            "Ceil: [2. 3. 4.]\n"
          ]
        }
      ]
    },
    {
      "cell_type": "markdown",
      "source": [
        "# **Aggregation Function**"
      ],
      "metadata": {
        "id": "N1nMnW5QmVHB"
      }
    },
    {
      "cell_type": "code",
      "source": [
        "import numpy as np\n",
        "\n",
        "arr = np.array([1, 2, 3, 4, 5, 6, 7, 8])\n",
        "\n",
        "# Sum of array elements\n",
        "print(\"Sum:\", np.sum(arr))\n",
        "\n",
        "# Minimum element in array\n",
        "print(\"Minimum:\", np.min(arr))\n",
        "\n",
        "# Maximum element in array\n",
        "print(\"Maximum:\", np.max(arr))\n",
        "\n",
        "# Mean of array elements\n",
        "print(\"Mean:\", np.mean(arr))\n",
        "\n",
        "# Median of array elements\n",
        "print(\"Median:\", np.median(arr))\n",
        "\n",
        "# Standard deviation of array elements\n",
        "print(\"Standard Deviation:\", np.std(arr))\n",
        "\n",
        "# Variance of array elements\n",
        "print(\"Variance:\", np.var(arr))\n",
        "\n",
        "# Product of array elements\n",
        "print(\"Product:\", np.prod(arr))\n",
        "\n",
        "# Cumulative sum of array elements\n",
        "print(\"Cumulative Sum:\", np.cumsum(arr))\n",
        "\n",
        "# Cumulative product of array elements\n",
        "print(\"Cumulative Product:\", np.cumprod(arr))\n",
        "\n",
        "# Percentile\n",
        "print(\"75th Percentile:\", np.percentile(arr, 75))"
      ],
      "metadata": {
        "colab": {
          "base_uri": "https://localhost:8080/"
        },
        "id": "MqStEwgyma7K",
        "outputId": "a3b300ed-e52e-405a-a26f-fb434a2709c2"
      },
      "execution_count": 23,
      "outputs": [
        {
          "output_type": "stream",
          "name": "stdout",
          "text": [
            "Sum: 36\n",
            "Minimum: 1\n",
            "Maximum: 8\n",
            "Mean: 4.5\n",
            "Median: 4.5\n",
            "Standard Deviation: 2.29128784747792\n",
            "Variance: 5.25\n",
            "Product: 40320\n",
            "Cumulative Sum: [ 1  3  6 10 15 21 28 36]\n",
            "Cumulative Product: [    1     2     6    24   120   720  5040 40320]\n",
            "75th Percentile: 6.25\n"
          ]
        }
      ]
    }
  ]
}