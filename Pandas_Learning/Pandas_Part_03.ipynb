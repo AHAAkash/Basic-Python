{
  "nbformat": 4,
  "nbformat_minor": 0,
  "metadata": {
    "colab": {
      "provenance": []
    },
    "kernelspec": {
      "name": "python3",
      "display_name": "Python 3"
    },
    "language_info": {
      "name": "python"
    }
  },
  "cells": [
    {
      "cell_type": "markdown",
      "source": [
        "# **Adding New column**\n",
        "\n",
        "1. Use square brackets\n",
        "2. df[\"colm name\"] = some_data"
      ],
      "metadata": {
        "id": "cOl0uPMIbRAx"
      }
    },
    {
      "cell_type": "code",
      "execution_count": null,
      "metadata": {
        "colab": {
          "base_uri": "https://localhost:8080/"
        },
        "id": "4UOZ7ppOaAYn",
        "outputId": "dbe8659f-1f01-425f-fd65-c80b4b8a7a24"
      },
      "outputs": [
        {
          "output_type": "stream",
          "name": "stdout",
          "text": [
            "      Name  Age         Profession  Salary  Performance\n",
            "0    Akash   25            Student   20000           88\n",
            "1     Ahad   24  Software Engineer   70000           90\n",
            "2  Hossain   19            Teacher   30000           85\n",
            "3   Aminul   55      Retair Person   15000           77\n",
            "4    Nayem   30  Hospital incharge   28000           92\n",
            "5   Nazmul   35          HouseHold    5000           81\n",
            "6     Megh   15    A-level student    8000           77\n",
            "7    Nabil   50     Marketing head   50000           89\n",
            "Updated Table: \n",
            "      Name  Age         Profession  Salary  Performance   Bonus\n",
            "0    Akash   25            Student   20000           88  2000.0\n",
            "1     Ahad   24  Software Engineer   70000           90  7000.0\n",
            "2  Hossain   19            Teacher   30000           85  3000.0\n",
            "3   Aminul   55      Retair Person   15000           77  1500.0\n",
            "4    Nayem   30  Hospital incharge   28000           92  2800.0\n",
            "5   Nazmul   35          HouseHold    5000           81   500.0\n",
            "6     Megh   15    A-level student    8000           77   800.0\n",
            "7    Nabil   50     Marketing head   50000           89  5000.0\n"
          ]
        }
      ],
      "source": [
        "import pandas as pd\n",
        "\n",
        "data= {\n",
        "    \"Name\": ['Akash', 'Ahad', 'Hossain', 'Aminul', 'Nayem', 'Nazmul', 'Megh', 'Nabil'],\n",
        "    \"Age\": [25,24,19,55,30,35,15,50],\n",
        "    \"Profession\":[\"Student\", 'Software Engineer', 'Teacher', 'Retair Person', 'Hospital incharge', 'HouseHold', 'A-level student', 'Marketing head'],\n",
        "    \"Salary\": [20000,70000,30000,15000,28000,5000,8000,50000],\n",
        "    \"Performance\": [88,90,85,77,92,81,77,89]\n",
        "}\n",
        "df= pd.DataFrame(data)\n",
        "print(df)\n",
        "df[\"Bonus\"] = df[\"Salary\"] * 0.1\n",
        "print(\"Updated Table: \")\n",
        "print(df)"
      ]
    },
    {
      "cell_type": "markdown",
      "source": [
        "**Using insert**\n",
        "\n",
        "df.insert(location, \"col name\", some data)"
      ],
      "metadata": {
        "id": "e_6nUX_Bg9yC"
      }
    },
    {
      "cell_type": "code",
      "source": [
        "df.insert(0, \"Member_ID\", [10,20,30,40,50,60,70,80])"
      ],
      "metadata": {
        "id": "Ssw35-RBhUtf"
      },
      "execution_count": null,
      "outputs": []
    },
    {
      "cell_type": "code",
      "metadata": {
        "colab": {
          "base_uri": "https://localhost:8080/"
        },
        "id": "3cfafb7b",
        "outputId": "91f4ad98-a9aa-4cdb-d4f2-8a2e70b8dd1f"
      },
      "source": [
        "print(df)"
      ],
      "execution_count": null,
      "outputs": [
        {
          "output_type": "stream",
          "name": "stdout",
          "text": [
            "   Member_ID  Family_ID     Name  Age         Profession  Salary  Performance  \\\n",
            "0         10          1    Akash   25            Student   20000           88   \n",
            "1         20          2     Ahad   24  Software Engineer   70000           90   \n",
            "2         30          3  Hossain   19            Teacher   30000           85   \n",
            "3         40          4   Aminul   55      Retair Person   15000           77   \n",
            "4         50          5    Nayem   30  Hospital incharge   28000           92   \n",
            "5         60          6   Nazmul   35          HouseHold    5000           81   \n",
            "6         70          7     Megh   15    A-level student    8000           77   \n",
            "7         80          8    Nabil   50     Marketing head   50000           89   \n",
            "\n",
            "    Bonus  \n",
            "0  2000.0  \n",
            "1  7000.0  \n",
            "2  3000.0  \n",
            "3  1500.0  \n",
            "4  2800.0  \n",
            "5   500.0  \n",
            "6   800.0  \n",
            "7  5000.0  \n"
          ]
        }
      ]
    },
    {
      "cell_type": "markdown",
      "source": [
        "# **Removing Column:**\n",
        "df.drop(column = [\"column_name\"]).inpalace=True"
      ],
      "metadata": {
        "id": "IsRmIV7wjuco"
      }
    },
    {
      "cell_type": "code",
      "source": [
        "df.drop(columns = [\"Family_ID\"], inplace=True)"
      ],
      "metadata": {
        "id": "IVQeIxHHkL1p"
      },
      "execution_count": null,
      "outputs": []
    },
    {
      "cell_type": "code",
      "source": [
        "print(df)"
      ],
      "metadata": {
        "id": "a7iVV4DKkWmd",
        "outputId": "f8d9a060-2125-4fbe-bfa3-92785eddc716",
        "colab": {
          "base_uri": "https://localhost:8080/"
        }
      },
      "execution_count": null,
      "outputs": [
        {
          "output_type": "stream",
          "name": "stdout",
          "text": [
            "   Member_ID     Name  Age         Profession  Salary  Performance   Bonus\n",
            "0         10    Akash   25            Student   20000           88  2000.0\n",
            "1         20     Ahad   24  Software Engineer   70000           90  7000.0\n",
            "2         30  Hossain   19            Teacher   30000           85  3000.0\n",
            "3         40   Aminul   55      Retair Person   15000           77  1500.0\n",
            "4         50    Nayem   30  Hospital incharge   28000           92  2800.0\n",
            "5         60   Nazmul   35          HouseHold    5000           81   500.0\n",
            "6         70     Megh   15    A-level student    8000           77   800.0\n",
            "7         80    Nabil   50     Marketing head   50000           89  5000.0\n"
          ]
        }
      ]
    },
    {
      "cell_type": "markdown",
      "source": [
        "# **Handaling MIssing Data:**\n",
        "\n",
        "\n",
        "1.   NaN(Not a Number)\n",
        "2.   None(For Object data types)\n",
        "\n",
        "\n",
        "First we have to identify the missing data, using isnull() method:\n",
        " 1. if it provide ** true ** means it is ** NaN **\n",
        " 2. if it provide ** False ** means it has ** no missing value **.\n",
        "\n"
      ],
      "metadata": {
        "id": "vtSlupIjr97M"
      }
    },
    {
      "cell_type": "code",
      "source": [
        "import pandas as pd\n",
        "\n",
        "data= {\n",
        "    \"Name\": [None, 'Ahad', 'Hossain', 'Aminul', 'Nayem', 'Nazmul', 'Megh', 'Nabil'],\n",
        "    \"Age\": [None,24,19,55,30,35,15,50],\n",
        "    \"Profession\":[None, 'Software Engineer', 'Teacher', 'Retair Person', 'Hospital incharge', 'HouseHold', 'A-level student', 'Marketing head'],\n",
        "    \"Salary\": [None,70000,30000,15000,28000,5000,8000,50000],\n",
        "    \"Performance\": [None,90,85,77,92,81,77,89]\n",
        "}\n",
        "df= pd.DataFrame(data)\n",
        "print(df)\n",
        "print(df.isnull()) # just check which are missing value\n",
        "print(\"Count the missing value: \")\n",
        "print(df.isnull().sum()) # count the missing value"
      ],
      "metadata": {
        "colab": {
          "base_uri": "https://localhost:8080/"
        },
        "id": "gJWMdUbButvS",
        "outputId": "0199a2e3-4a77-4847-882a-5ff9ae74cc10"
      },
      "execution_count": 5,
      "outputs": [
        {
          "output_type": "stream",
          "name": "stdout",
          "text": [
            "      Name   Age         Profession   Salary  Performance\n",
            "0     None   NaN               None      NaN          NaN\n",
            "1     Ahad  24.0  Software Engineer  70000.0         90.0\n",
            "2  Hossain  19.0            Teacher  30000.0         85.0\n",
            "3   Aminul  55.0      Retair Person  15000.0         77.0\n",
            "4    Nayem  30.0  Hospital incharge  28000.0         92.0\n",
            "5   Nazmul  35.0          HouseHold   5000.0         81.0\n",
            "6     Megh  15.0    A-level student   8000.0         77.0\n",
            "7    Nabil  50.0     Marketing head  50000.0         89.0\n",
            "    Name    Age  Profession  Salary  Performance\n",
            "0   True   True        True    True         True\n",
            "1  False  False       False   False        False\n",
            "2  False  False       False   False        False\n",
            "3  False  False       False   False        False\n",
            "4  False  False       False   False        False\n",
            "5  False  False       False   False        False\n",
            "6  False  False       False   False        False\n",
            "7  False  False       False   False        False\n",
            "Count the missing value: \n",
            "Name           1\n",
            "Age            1\n",
            "Profession     1\n",
            "Salary         1\n",
            "Performance    1\n",
            "dtype: int64\n"
          ]
        }
      ]
    },
    {
      "cell_type": "markdown",
      "source": [
        "**For Handling this, Main solution is:**\n",
        "\n",
        "Delete the column if it's nothing change in dataset.\n",
        "**using dropna() method:**\n",
        "\n",
        "1. df.dropna(axis=0,inplace= True)  # missing value of row\n",
        "2. df.dropna(axis=1,inplace= True)  # missing value of column"
      ],
      "metadata": {
        "id": "K9Bi3cJvv7g6"
      }
    },
    {
      "cell_type": "code",
      "source": [
        "df.dropna(axis=0,inplace= True)\n"
      ],
      "metadata": {
        "id": "De47WNbfwSmB"
      },
      "execution_count": 6,
      "outputs": []
    },
    {
      "cell_type": "code",
      "source": [
        "print(df)"
      ],
      "metadata": {
        "colab": {
          "base_uri": "https://localhost:8080/"
        },
        "id": "FO-MxuC5y47a",
        "outputId": "8461400d-6c76-4871-da6b-3b5016c31f91"
      },
      "execution_count": 7,
      "outputs": [
        {
          "output_type": "stream",
          "name": "stdout",
          "text": [
            "      Name   Age         Profession   Salary  Performance\n",
            "1     Ahad  24.0  Software Engineer  70000.0         90.0\n",
            "2  Hossain  19.0            Teacher  30000.0         85.0\n",
            "3   Aminul  55.0      Retair Person  15000.0         77.0\n",
            "4    Nayem  30.0  Hospital incharge  28000.0         92.0\n",
            "5   Nazmul  35.0          HouseHold   5000.0         81.0\n",
            "6     Megh  15.0    A-level student   8000.0         77.0\n",
            "7    Nabil  50.0     Marketing head  50000.0         89.0\n"
          ]
        }
      ]
    },
    {
      "cell_type": "markdown",
      "source": [
        "# **Replace Empty Values**\n",
        "Another way of dealing with ** empty cells or missing value ** is to insert a new value instead.\n",
        "\n",
        "This way you do not have to delete entire rows just because of some empty cells.\n",
        "\n",
        "The `fillna()` method allows us to replace empty cells with a value:"
      ],
      "metadata": {
        "id": "DbsgqF2wzPNu"
      }
    },
    {
      "cell_type": "code",
      "source": [
        "import pandas as pd\n",
        "\n",
        "data= {\n",
        "    \"Name\": [None, 'Ahad', 'Hossain', 'Aminul', 'Nayem', 'Nazmul', 'Megh', 'Nabil'],\n",
        "    \"Age\": [None,24,19,55,30,35,15,50],\n",
        "    \"Profession\":[None, 'Software Engineer', 'Teacher', 'Retair Person', 'Hospital incharge', 'HouseHold', 'A-level student', 'Marketing head'],\n",
        "    \"Salary\": [None,70000,30000,15000,28000,5000,8000,50000],\n",
        "    \"Performance\": [None,90,85,77,92,81,77,89]\n",
        "}\n",
        "df= pd.DataFrame(data)\n",
        "print(df)\n",
        "print(df.isnull()) # just check which are missing value\n",
        "print(\"Count the missing value: \")\n",
        "print(df.isnull().sum()) # count the missing value"
      ],
      "metadata": {
        "colab": {
          "base_uri": "https://localhost:8080/"
        },
        "id": "S6S37C94znUf",
        "outputId": "2a55cdcb-db6e-449a-c371-26a67d8d19ed"
      },
      "execution_count": 8,
      "outputs": [
        {
          "output_type": "stream",
          "name": "stdout",
          "text": [
            "      Name   Age         Profession   Salary  Performance\n",
            "0     None   NaN               None      NaN          NaN\n",
            "1     Ahad  24.0  Software Engineer  70000.0         90.0\n",
            "2  Hossain  19.0            Teacher  30000.0         85.0\n",
            "3   Aminul  55.0      Retair Person  15000.0         77.0\n",
            "4    Nayem  30.0  Hospital incharge  28000.0         92.0\n",
            "5   Nazmul  35.0          HouseHold   5000.0         81.0\n",
            "6     Megh  15.0    A-level student   8000.0         77.0\n",
            "7    Nabil  50.0     Marketing head  50000.0         89.0\n",
            "    Name    Age  Profession  Salary  Performance\n",
            "0   True   True        True    True         True\n",
            "1  False  False       False   False        False\n",
            "2  False  False       False   False        False\n",
            "3  False  False       False   False        False\n",
            "4  False  False       False   False        False\n",
            "5  False  False       False   False        False\n",
            "6  False  False       False   False        False\n",
            "7  False  False       False   False        False\n",
            "Count the missing value: \n",
            "Name           1\n",
            "Age            1\n",
            "Profession     1\n",
            "Salary         1\n",
            "Performance    1\n",
            "dtype: int64\n"
          ]
        }
      ]
    },
    {
      "cell_type": "code",
      "source": [
        "#print(df.fillna(0, inplace=True))  #Default value\n",
        "# Replace Using Mean, Median, or Mode\n",
        "x= df[\"Age\"].mean()\n",
        "df[\"Age\"].fillna(x, inplace=True)"
      ],
      "metadata": {
        "colab": {
          "base_uri": "https://localhost:8080/"
        },
        "id": "Lfa8nCelzrNG",
        "outputId": "0cc9b72a-cc91-48cf-a2a3-30b23c421c9d"
      },
      "execution_count": 11,
      "outputs": [
        {
          "output_type": "stream",
          "name": "stderr",
          "text": [
            "/tmp/ipython-input-1699289968.py:4: FutureWarning: A value is trying to be set on a copy of a DataFrame or Series through chained assignment using an inplace method.\n",
            "The behavior will change in pandas 3.0. This inplace method will never work because the intermediate object on which we are setting values always behaves as a copy.\n",
            "\n",
            "For example, when doing 'df[col].method(value, inplace=True)', try using 'df.method({col: value}, inplace=True)' or df[col] = df[col].method(value) instead, to perform the operation inplace on the original object.\n",
            "\n",
            "\n",
            "  df[\"Age\"].fillna(x, inplace=True)\n"
          ]
        }
      ]
    },
    {
      "cell_type": "code",
      "source": [
        "print(df)"
      ],
      "metadata": {
        "colab": {
          "base_uri": "https://localhost:8080/"
        },
        "id": "TmdZtZKZzzxn",
        "outputId": "2a9e2653-d820-4c5f-92b4-a208f95f7fac"
      },
      "execution_count": 12,
      "outputs": [
        {
          "output_type": "stream",
          "name": "stdout",
          "text": [
            "      Name   Age         Profession   Salary  Performance\n",
            "0        0   0.0                  0      0.0          0.0\n",
            "1     Ahad  24.0  Software Engineer  70000.0         90.0\n",
            "2  Hossain  19.0            Teacher  30000.0         85.0\n",
            "3   Aminul  55.0      Retair Person  15000.0         77.0\n",
            "4    Nayem  30.0  Hospital incharge  28000.0         92.0\n",
            "5   Nazmul  35.0          HouseHold   5000.0         81.0\n",
            "6     Megh  15.0    A-level student   8000.0         77.0\n",
            "7    Nabil  50.0     Marketing head  50000.0         89.0\n"
          ]
        }
      ]
    },
    {
      "cell_type": "markdown",
      "source": [
        "# **Interpolation**\n",
        "1. Linear interpolation\n",
        "2. Polynomial  interpolation\n",
        "3. Time interpolation\n",
        "\n",
        "What is do actualy:\n",
        "1. Predict estimated value and fill it. Like, 10,20,NaN,40,50 --->> it automatically predict 30 and fill it up.\n",
        "2. Smooth trends. IF a shop do every year calculation but unfortunately missing one year value then it done this automatically.\n",
        "3. Avoid Data loss.\n",
        "\n",
        "`interpolate()` method for this"
      ],
      "metadata": {
        "id": "6hmfsozqHCBX"
      }
    },
    {
      "cell_type": "code",
      "source": [
        "import pandas as pd\n",
        "\n",
        "data= {\n",
        "    \"Name\": ['Akash', 'Ahad', 'Hossain', 'Aminul', 'Nayem', 'Nazmul', 'Megh', 'Nabil'],\n",
        "    \"Age\": [25,24,19,55,30,35,15,50],\n",
        "    \"Profession\":['Student', 'Software Engineer', 'Teacher', 'Retair Person', 'Hospital incharge', 'HouseHold', 'A-level student', 'Marketing head'],\n",
        "    \"Salary\": [None,70000,30000,15000,28000,5000,8000,50000],\n",
        "    \"Performance\": [None,90,85,77,92,81,77,89]\n",
        "}\n",
        "df= pd.DataFrame(data)\n",
        "print(df)\n",
        "df.interpolate(method=\"linear\",axis=0, inplace=True)\n",
        "print(df)"
      ],
      "metadata": {
        "colab": {
          "base_uri": "https://localhost:8080/"
        },
        "id": "qaArgf4cI90C",
        "outputId": "213804fe-fe37-4d8a-e16f-3cc85fa6db6f"
      },
      "execution_count": 14,
      "outputs": [
        {
          "output_type": "stream",
          "name": "stdout",
          "text": [
            "      Name  Age         Profession   Salary  Performance\n",
            "0    Akash   25            Student      NaN          NaN\n",
            "1     Ahad   24  Software Engineer  70000.0         90.0\n",
            "2  Hossain   19            Teacher  30000.0         85.0\n",
            "3   Aminul   55      Retair Person  15000.0         77.0\n",
            "4    Nayem   30  Hospital incharge  28000.0         92.0\n",
            "5   Nazmul   35          HouseHold   5000.0         81.0\n",
            "6     Megh   15    A-level student   8000.0         77.0\n",
            "7    Nabil   50     Marketing head  50000.0         89.0\n",
            "      Name  Age         Profession   Salary  Performance\n",
            "0    Akash   25            Student      NaN          NaN\n",
            "1     Ahad   24  Software Engineer  70000.0         90.0\n",
            "2  Hossain   19            Teacher  30000.0         85.0\n",
            "3   Aminul   55      Retair Person  15000.0         77.0\n",
            "4    Nayem   30  Hospital incharge  28000.0         92.0\n",
            "5   Nazmul   35          HouseHold   5000.0         81.0\n",
            "6     Megh   15    A-level student   8000.0         77.0\n",
            "7    Nabil   50     Marketing head  50000.0         89.0\n"
          ]
        },
        {
          "output_type": "stream",
          "name": "stderr",
          "text": [
            "/tmp/ipython-input-2884200700.py:12: FutureWarning: DataFrame.interpolate with object dtype is deprecated and will raise in a future version. Call obj.infer_objects(copy=False) before interpolating instead.\n",
            "  df.interpolate(method=\"linear\",axis=0, inplace=True)\n"
          ]
        }
      ]
    },
    {
      "cell_type": "markdown",
      "source": [],
      "metadata": {
        "id": "E5PFPymqzZug"
      }
    }
  ]
}