{
  "nbformat": 4,
  "nbformat_minor": 0,
  "metadata": {
    "colab": {
      "provenance": []
    },
    "kernelspec": {
      "name": "python3",
      "display_name": "Python 3"
    },
    "language_info": {
      "name": "python"
    }
  },
  "cells": [
    {
      "cell_type": "markdown",
      "source": [
        "# Sorting and aggregration"
      ],
      "metadata": {
        "id": "C5nzrU2qPVbK"
      }
    },
    {
      "cell_type": "markdown",
      "source": [
        "Sort in column using sort_values() method:\n",
        "\n",
        "`df.sort_values(by=\"column_name\",True(For acending_order)/ False(For decending order),inplace=True)`"
      ],
      "metadata": {
        "id": "nl83o2uphczf"
      }
    },
    {
      "cell_type": "code",
      "execution_count": 2,
      "metadata": {
        "colab": {
          "base_uri": "https://localhost:8080/"
        },
        "id": "oN_tkmQcPLog",
        "outputId": "bc4f9b98-112a-4a5d-9bc4-551b2c3294c9"
      },
      "outputs": [
        {
          "output_type": "stream",
          "name": "stdout",
          "text": [
            "     Duration  Pulse  Maxpulse  Calories\n",
            "0          60    110       130     409.1\n",
            "1          60    117       145     479.0\n",
            "2          60    103       135     340.0\n",
            "3          45    109       175     282.4\n",
            "4          45    117       148     406.0\n",
            "..        ...    ...       ...       ...\n",
            "164        60    105       140     290.8\n",
            "165        60    110       145     300.0\n",
            "166        60    115       145     310.2\n",
            "167        75    120       150     320.4\n",
            "168        75    125       150     330.4\n",
            "\n",
            "[169 rows x 4 columns]\n",
            "     Duration  Pulse  Maxpulse  Calories\n",
            "80         30    159       182     319.2\n",
            "58         20    153       172     226.4\n",
            "97         25    152       168     244.2\n",
            "95         20    151       168     229.4\n",
            "85         30    151       170     300.0\n",
            "..        ...    ...       ...       ...\n",
            "107        30     90       120      86.2\n",
            "160        30     85       120     250.4\n",
            "89         20     83       107      50.3\n",
            "93         15     80       100      50.5\n",
            "159        30     80       120     240.9\n",
            "\n",
            "[169 rows x 4 columns]\n"
          ]
        }
      ],
      "source": [
        "import pandas as pd\n",
        "df = pd.read_csv(\"data.csv\")\n",
        "print(df)\n",
        "df.sort_values(by=\"Pulse\",ascending=False,inplace=True)\n",
        "print(df)"
      ]
    },
    {
      "cell_type": "code",
      "source": [
        "grouped = df.groupby([\"Duration\", \"Pulse\"])[\"Calories\"].sum()\n",
        "print(grouped)"
      ],
      "metadata": {
        "colab": {
          "base_uri": "https://localhost:8080/"
        },
        "id": "D1aeobvIjZQ_",
        "outputId": "7861e83d-fd6d-44c3-d14e-f8440d7393c2"
      },
      "execution_count": 5,
      "outputs": [
        {
          "output_type": "stream",
          "name": "stdout",
          "text": [
            "Duration  Pulse\n",
            "15        80         50.5\n",
            "          124       124.2\n",
            "20        83         50.3\n",
            "          95         77.7\n",
            "          106       110.4\n",
            "                    ...  \n",
            "180       101       600.1\n",
            "210       108      1376.0\n",
            "          137      1860.4\n",
            "270       100      1729.0\n",
            "300       108      1500.2\n",
            "Name: Calories, Length: 94, dtype: float64\n"
          ]
        }
      ]
    },
    {
      "cell_type": "code",
      "source": [
        "grouped = df.groupby([\"Duration\"])[\"Calories\"].sum()\n",
        "print(grouped)"
      ],
      "metadata": {
        "id": "lT_2dLIyky3z"
      },
      "execution_count": null,
      "outputs": []
    },
    {
      "cell_type": "markdown",
      "source": [
        "# **Marging and Joining**"
      ],
      "metadata": {
        "id": "TyjGq11ujGqd"
      }
    },
    {
      "cell_type": "markdown",
      "source": [
        "MArging?\n",
        "\n",
        "Marging is a combination of 2 or more dataframe based on a key column\n",
        "\n",
        "Syntex:\n",
        "`pd.merge(df1,df2, on=\"Column_name\", how=\"Types of join\")`"
      ],
      "metadata": {
        "id": "EbiOYgutn5pJ"
      }
    },
    {
      "cell_type": "code",
      "source": [
        "import pandas as pd\n",
        "\n",
        "# Create sample dataframes\n",
        "df1 = pd.DataFrame({\n",
        "    'ID': [1, 2, 3, 4],\n",
        "    'Name': ['Alice', 'Bob', 'Charlie', 'David']\n",
        "})\n",
        "\n",
        "df2 = pd.DataFrame({\n",
        "    'ID': [3, 4, 5, 6],\n",
        "    'Age': [30, 35, 25, 28]\n",
        "})\n",
        "\n",
        "print(\"DataFrame 1:\")\n",
        "print(df1)\n",
        "print(\"\\nDataFrame 2:\")\n",
        "print(df2)\n",
        "\n",
        "# Inner merge\n",
        "# Returns only rows where the 'ID' is present in both dataframes\n",
        "inner_merge_df = pd.merge(df1, df2, on='ID', how='inner')\n",
        "print(\"\\nInner Merge:\")\n",
        "print(inner_merge_df)\n",
        "\n",
        "# Outer merge\n",
        "# Returns all rows from both dataframes, filling missing values with NaN\n",
        "outer_merge_df = pd.merge(df1, df2, on='ID', how='outer')\n",
        "print(\"\\nOuter Merge:\")\n",
        "print(outer_merge_df)\n",
        "\n",
        "# Left merge\n",
        "# Returns all rows from the left dataframe (df1), and matching rows from the right dataframe (df2)\n",
        "left_merge_df = pd.merge(df1, df2, on='ID', how='left')\n",
        "print(\"\\nLeft Merge:\")\n",
        "print(left_merge_df)\n",
        "\n",
        "# Right merge\n",
        "# Returns all rows from the right dataframe (df2), and matching rows from the left dataframe (df1)\n",
        "right_merge_df = pd.merge(df1, df2, on='ID', how='right')\n",
        "print(\"\\nRight Merge:\")\n",
        "print(right_merge_df)"
      ],
      "metadata": {
        "colab": {
          "base_uri": "https://localhost:8080/"
        },
        "id": "kSZs-dH6nwBK",
        "outputId": "93a0374f-cc34-47bd-f888-c8a84853ca13"
      },
      "execution_count": 7,
      "outputs": [
        {
          "output_type": "stream",
          "name": "stdout",
          "text": [
            "DataFrame 1:\n",
            "   ID     Name\n",
            "0   1    Alice\n",
            "1   2      Bob\n",
            "2   3  Charlie\n",
            "3   4    David\n",
            "\n",
            "DataFrame 2:\n",
            "   ID  Age\n",
            "0   3   30\n",
            "1   4   35\n",
            "2   5   25\n",
            "3   6   28\n",
            "\n",
            "Inner Merge:\n",
            "   ID     Name  Age\n",
            "0   3  Charlie   30\n",
            "1   4    David   35\n",
            "\n",
            "Outer Merge:\n",
            "   ID     Name   Age\n",
            "0   1    Alice   NaN\n",
            "1   2      Bob   NaN\n",
            "2   3  Charlie  30.0\n",
            "3   4    David  35.0\n",
            "4   5      NaN  25.0\n",
            "5   6      NaN  28.0\n",
            "\n",
            "Left Merge:\n",
            "   ID     Name   Age\n",
            "0   1    Alice   NaN\n",
            "1   2      Bob   NaN\n",
            "2   3  Charlie  30.0\n",
            "3   4    David  35.0\n",
            "\n",
            "Right Merge:\n",
            "   ID     Name  Age\n",
            "0   3  Charlie   30\n",
            "1   4    David   35\n",
            "2   5      NaN   25\n",
            "3   6      NaN   28\n"
          ]
        }
      ]
    },
    {
      "cell_type": "markdown",
      "source": [
        "# Concetenation\n",
        "\n",
        "Types:\n",
        "1. Vertically -->> Row-wise\n",
        "2. Horizontally -->> Column-wise"
      ],
      "metadata": {
        "id": "WWjvxDLFxChb"
      }
    },
    {
      "cell_type": "code",
      "source": [
        "import pandas as pd\n",
        "\n",
        "# Create sample dataframes for vertical concatenation\n",
        "df_v1 = pd.DataFrame({\n",
        "    'A': [1, 2],\n",
        "    'B': [3, 4]\n",
        "})\n",
        "\n",
        "df_v2 = pd.DataFrame({\n",
        "    'A': [5, 6],\n",
        "    'B': [7, 8]\n",
        "})\n",
        "\n",
        "print(\"DataFrame for vertical concatenation 1:\")\n",
        "print(df_v1)\n",
        "print(\"\\nDataFrame for vertical concatenation 2:\")\n",
        "print(df_v2)\n",
        "\n",
        "# Vertical concatenation (row-wise)\n",
        "vertical_concat_df = pd.concat([df_v1, df_v2], axis=0)\n",
        "print(\"\\nVertical Concatenation:\")\n",
        "print(vertical_concat_df)\n",
        "\n",
        "# Create sample dataframes for horizontal concatenation\n",
        "df_h1 = pd.DataFrame({\n",
        "    'A': [1, 2],\n",
        "    'B': [3, 4]\n",
        "})\n",
        "\n",
        "df_h2 = pd.DataFrame({\n",
        "    'C': [5, 6],\n",
        "    'D': [7, 8]\n",
        "})\n",
        "\n",
        "print(\"\\nDataFrame for horizontal concatenation 1:\")\n",
        "print(df_h1)\n",
        "print(\"\\nDataFrame for horizontal concatenation 2:\")\n",
        "print(df_h2)\n",
        "\n",
        "# Horizontal concatenation (column-wise)\n",
        "horizontal_concat_df = pd.concat([df_h1, df_h2], axis=1)\n",
        "print(\"\\nHorizontal Concatenation:\")\n",
        "print(horizontal_concat_df)"
      ],
      "metadata": {
        "colab": {
          "base_uri": "https://localhost:8080/"
        },
        "id": "L9m8JThOrcSa",
        "outputId": "d209c7a0-6a2f-420f-e6cc-dc4da646e765"
      },
      "execution_count": 8,
      "outputs": [
        {
          "output_type": "stream",
          "name": "stdout",
          "text": [
            "DataFrame for vertical concatenation 1:\n",
            "   A  B\n",
            "0  1  3\n",
            "1  2  4\n",
            "\n",
            "DataFrame for vertical concatenation 2:\n",
            "   A  B\n",
            "0  5  7\n",
            "1  6  8\n",
            "\n",
            "Vertical Concatenation:\n",
            "   A  B\n",
            "0  1  3\n",
            "1  2  4\n",
            "0  5  7\n",
            "1  6  8\n",
            "\n",
            "DataFrame for horizontal concatenation 1:\n",
            "   A  B\n",
            "0  1  3\n",
            "1  2  4\n",
            "\n",
            "DataFrame for horizontal concatenation 2:\n",
            "   C  D\n",
            "0  5  7\n",
            "1  6  8\n",
            "\n",
            "Horizontal Concatenation:\n",
            "   A  B  C  D\n",
            "0  1  3  5  7\n",
            "1  2  4  6  8\n"
          ]
        }
      ]
    }
  ]
}