{
  "nbformat": 4,
  "nbformat_minor": 0,
  "metadata": {
    "colab": {
      "provenance": [],
      "authorship_tag": "ABX9TyM7z/kX0tDvA82NlcIHxsLP",
      "include_colab_link": true
    },
    "kernelspec": {
      "name": "python3",
      "display_name": "Python 3"
    },
    "language_info": {
      "name": "python"
    }
  },
  "cells": [
    {
      "cell_type": "markdown",
      "metadata": {
        "id": "view-in-github",
        "colab_type": "text"
      },
      "source": [
        "<a href=\"https://colab.research.google.com/github/AHAAkash/Basic-Python/blob/main/3_Arithmetic.ipynb\" target=\"_parent\"><img src=\"https://colab.research.google.com/assets/colab-badge.svg\" alt=\"Open In Colab\"/></a>"
      ]
    },
    {
      "cell_type": "code",
      "execution_count": 1,
      "metadata": {
        "colab": {
          "base_uri": "https://localhost:8080/"
        },
        "id": "XlwqjlDIGXgc",
        "outputId": "8afe8a36-c097-4398-ad52-156f7ddd5a9a"
      },
      "outputs": [
        {
          "output_type": "execute_result",
          "data": {
            "text/plain": [
              "81"
            ]
          },
          "metadata": {},
          "execution_count": 1
        }
      ],
      "source": [
        "a=3\n",
        "b=4\n",
        "a**b #Exponentiation"
      ]
    },
    {
      "cell_type": "code",
      "source": [
        "a/b"
      ],
      "metadata": {
        "colab": {
          "base_uri": "https://localhost:8080/"
        },
        "id": "9dnzGu22I8Rg",
        "outputId": "c9b25428-801e-4243-f37f-9a5253c22298"
      },
      "execution_count": 2,
      "outputs": [
        {
          "output_type": "execute_result",
          "data": {
            "text/plain": [
              "0.75"
            ]
          },
          "metadata": {},
          "execution_count": 2
        }
      ]
    },
    {
      "cell_type": "code",
      "source": [
        "a-b"
      ],
      "metadata": {
        "colab": {
          "base_uri": "https://localhost:8080/"
        },
        "id": "mE7EqJ0rI-5m",
        "outputId": "f8284cc9-693f-45a3-d327-5a07ef57e7a4"
      },
      "execution_count": 3,
      "outputs": [
        {
          "output_type": "execute_result",
          "data": {
            "text/plain": [
              "-1"
            ]
          },
          "metadata": {},
          "execution_count": 3
        }
      ]
    },
    {
      "cell_type": "code",
      "source": [
        "a=50\n",
        "b=8\n",
        "a//b #Floor division ->> rounds the result down to the nearest whole number"
      ],
      "metadata": {
        "colab": {
          "base_uri": "https://localhost:8080/"
        },
        "id": "UTw6O74NJB7e",
        "outputId": "f8797cab-7677-4374-9219-c841acae791a"
      },
      "execution_count": 4,
      "outputs": [
        {
          "output_type": "execute_result",
          "data": {
            "text/plain": [
              "6"
            ]
          },
          "metadata": {},
          "execution_count": 4
        }
      ]
    },
    {
      "cell_type": "code",
      "source": [
        "# Modulus/Reminder\n",
        "a%b"
      ],
      "metadata": {
        "colab": {
          "base_uri": "https://localhost:8080/"
        },
        "id": "jNWqUF5wJmw6",
        "outputId": "2c1dacc0-cdf1-48b8-cd59-9f1b30e4c529"
      },
      "execution_count": 6,
      "outputs": [
        {
          "output_type": "execute_result",
          "data": {
            "text/plain": [
              "2"
            ]
          },
          "metadata": {},
          "execution_count": 6
        }
      ]
    },
    {
      "cell_type": "markdown",
      "source": [
        "# **Operator Precedence**\n",
        "![Math.PNG](data:image/png;base64,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)"
      ],
      "metadata": {
        "id": "OcdKdFjzMj95"
      }
    },
    {
      "cell_type": "code",
      "source": [
        "# BODMAS\n",
        "print((4*5)-9+6/7)"
      ],
      "metadata": {
        "colab": {
          "base_uri": "https://localhost:8080/"
        },
        "id": "RvTUVxkuJuNf",
        "outputId": "12b1818f-0e1a-426f-8c86-16128a815440"
      },
      "execution_count": 7,
      "outputs": [
        {
          "output_type": "stream",
          "name": "stdout",
          "text": [
            "11.857142857142858\n"
          ]
        }
      ]
    },
    {
      "cell_type": "code",
      "source": [
        "x = 5\n",
        "x ^= 3\n",
        "print(x)"
      ],
      "metadata": {
        "colab": {
          "base_uri": "https://localhost:8080/"
        },
        "id": "QiQNqbZ-J6T3",
        "outputId": "6aa60a3c-6282-4a68-edf2-c680149466b8"
      },
      "execution_count": 8,
      "outputs": [
        {
          "output_type": "stream",
          "name": "stdout",
          "text": [
            "6\n"
          ]
        }
      ]
    },
    {
      "cell_type": "code",
      "source": [
        "x=5\n",
        "x = x >> 3"
      ],
      "metadata": {
        "id": "k2glCd-hKePt"
      },
      "execution_count": 11,
      "outputs": []
    },
    {
      "cell_type": "markdown",
      "source": [
        "# Python Identity **Operators**\n",
        "Identity operators are used to compare the objects, not if they are equal, but if they are actually the same object, with the same memory location:**bold text**"
      ],
      "metadata": {
        "id": "SJEQThg2Ksd_"
      }
    },
    {
      "cell_type": "code",
      "source": [
        "x = [\"apple\", \"banana\"]\n",
        "y = [\"apple\", \"banana\"]\n",
        "z = x\n",
        "print(x is z)\n",
        "# returns True because z is the same object as x\n",
        "print(x is y)\n",
        "# returns False because x is not the same object as y, even if they have the same content\n",
        "print(x == y)\n",
        "# to demonstrate the difference betweeen \"is\" and \"==\": this comparison returns True because x is equal to y"
      ],
      "metadata": {
        "colab": {
          "base_uri": "https://localhost:8080/"
        },
        "id": "oC_21dNCKukH",
        "outputId": "827691cd-148e-4e06-a48f-2ed5afd21121"
      },
      "execution_count": 12,
      "outputs": [
        {
          "output_type": "stream",
          "name": "stdout",
          "text": [
            "True\n",
            "False\n",
            "True\n"
          ]
        }
      ]
    },
    {
      "cell_type": "code",
      "source": [
        "x = [\"apple\", \"banana\"]\n",
        "y = [\"apple\", \"banana\"]\n",
        "z = x\n",
        "print(x is not z)\n",
        "# returns False because z is the same object as x\n",
        "print(x is not y)\n",
        "# returns True because x is not the same object as y, even if they have the same content\n",
        "print(x != y)\n",
        "# to demonstrate the difference betweeen \"is not\" and \"!=\": this comparison returns False because x is equal to y"
      ],
      "metadata": {
        "colab": {
          "base_uri": "https://localhost:8080/"
        },
        "id": "eFkiytPrLPrg",
        "outputId": "da310088-04df-43d1-9903-93feaab53a88"
      },
      "execution_count": 13,
      "outputs": [
        {
          "output_type": "stream",
          "name": "stdout",
          "text": [
            "False\n",
            "True\n",
            "False\n"
          ]
        }
      ]
    },
    {
      "cell_type": "markdown",
      "source": [
        "# **Python Membership Operators**\n",
        "Membership operators are used to test if a sequence is presented in an object:"
      ],
      "metadata": {
        "id": "Oh8eNORML0b5"
      }
    },
    {
      "cell_type": "code",
      "source": [
        "x = [\"apple\", \"banana\"]\n",
        "print(\"banana\" in x)   # returns True because a sequence with the value \"banana\" is in the list"
      ],
      "metadata": {
        "colab": {
          "base_uri": "https://localhost:8080/"
        },
        "id": "Kkp0tFMdL6R4",
        "outputId": "3404e651-ee2f-476c-c389-0beaad5587c7"
      },
      "execution_count": 14,
      "outputs": [
        {
          "output_type": "stream",
          "name": "stdout",
          "text": [
            "True\n"
          ]
        }
      ]
    },
    {
      "cell_type": "code",
      "source": [
        "x = [\"apple\", \"banana\"]\n",
        "print(\"pineapple\" not in x)   # returns True because a sequence with the value \"pineapple\" is not in the list"
      ],
      "metadata": {
        "colab": {
          "base_uri": "https://localhost:8080/"
        },
        "id": "vHfruaZVMLx6",
        "outputId": "fb7b739c-0329-4407-aac5-b895031c2fa8"
      },
      "execution_count": 15,
      "outputs": [
        {
          "output_type": "stream",
          "name": "stdout",
          "text": [
            "True\n"
          ]
        }
      ]
    },
    {
      "cell_type": "code",
      "source": [],
      "metadata": {
        "id": "kbwmShtsMOkJ"
      },
      "execution_count": null,
      "outputs": []
    },
    {
      "cell_type": "markdown",
      "source": [
        "# **Python Bitwise Operators**\n",
        "Bitwise operators are used to compare (binary) numbers:\n",
        "![image.png](data:image/png;base64,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)"
      ],
      "metadata": {
        "id": "IV4bM0tANXA1"
      }
    },
    {
      "cell_type": "code",
      "source": [
        "print(6 & 3)\n",
        "\"\"\"\n",
        "The & operator compares each bit and set it to 1 if both are 1, otherwise it is set to 0:\n",
        "\n",
        "6 = 0000000000000110\n",
        "3 = 0000000000000011\n",
        "--------------------\n",
        "2 = 0000000000000010\n",
        "====================\n",
        "\n",
        "Decimal numbers and their binary values:\n",
        "0 = 0000000000000000\n",
        "1 = 0000000000000001\n",
        "2 = 0000000000000010\n",
        "3 = 0000000000000011\n",
        "4 = 0000000000000100\n",
        "5 = 0000000000000101\n",
        "6 = 0000000000000110\n",
        "7 = 0000000000000111\n",
        "\"\"\""
      ],
      "metadata": {
        "colab": {
          "base_uri": "https://localhost:8080/",
          "height": 87
        },
        "id": "xe9CU_QVNho4",
        "outputId": "cafac0d6-8fc5-4150-e63d-4d1540e0d453"
      },
      "execution_count": 17,
      "outputs": [
        {
          "output_type": "stream",
          "name": "stdout",
          "text": [
            "2\n"
          ]
        },
        {
          "output_type": "execute_result",
          "data": {
            "text/plain": [
              "'\\nThe & operator compares each bit and set it to 1 if both are 1, otherwise it is set to 0:\\n\\n6 = 0000000000000110\\n3 = 0000000000000011\\n--------------------\\n2 = 0000000000000010\\n====================\\n\\nDecimal numbers and their binary values:\\n0 = 0000000000000000\\n1 = 0000000000000001\\n2 = 0000000000000010\\n3 = 0000000000000011\\n4 = 0000000000000100\\n5 = 0000000000000101\\n6 = 0000000000000110\\n7 = 0000000000000111\\n'"
            ],
            "application/vnd.google.colaboratory.intrinsic+json": {
              "type": "string"
            }
          },
          "metadata": {},
          "execution_count": 17
        }
      ]
    },
    {
      "cell_type": "code",
      "source": [
        "print(6 | 3)\n",
        "\"\"\"\n",
        "The | operator compares each bit and set it to 1 if one or both is 1, otherwise it is set to 0:\n",
        "6 = 0000000000000110\n",
        "3 = 0000000000000011\n",
        "--------------------\n",
        "7 = 0000000000000111\n",
        "\n",
        "\"\"\""
      ],
      "metadata": {
        "colab": {
          "base_uri": "https://localhost:8080/",
          "height": 70
        },
        "id": "zThttbGQN0BZ",
        "outputId": "3c3bb002-f183-4d1f-f107-09f28fc19a5e"
      },
      "execution_count": 18,
      "outputs": [
        {
          "output_type": "stream",
          "name": "stdout",
          "text": [
            "7\n"
          ]
        },
        {
          "output_type": "execute_result",
          "data": {
            "text/plain": [
              "'\\nThe | operator compares each bit and set it to 1 if one or both is 1, otherwise it is set to 0:\\n6 = 0000000000000110\\n3 = 0000000000000011\\n--------------------\\n7 = 0000000000000111\\n\\n'"
            ],
            "application/vnd.google.colaboratory.intrinsic+json": {
              "type": "string"
            }
          },
          "metadata": {},
          "execution_count": 18
        }
      ]
    },
    {
      "cell_type": "code",
      "source": [
        "print(6 ^ 3)\n",
        "\"\"\"\n",
        "The ^ operator compares each bit and set it to 1 if only one is 1, otherwise (if both are 1 or both are 0) it is set to 0:\n",
        "6 = 0000000000000110\n",
        "3 = 0000000000000011\n",
        "--------------------\n",
        "5 = 0000000000000101\n",
        "\"\"\""
      ],
      "metadata": {
        "colab": {
          "base_uri": "https://localhost:8080/",
          "height": 70
        },
        "id": "69klXZxjN-wa",
        "outputId": "ea75c454-7411-4472-848d-7348e3db78ae"
      },
      "execution_count": 20,
      "outputs": [
        {
          "output_type": "stream",
          "name": "stdout",
          "text": [
            "5\n"
          ]
        },
        {
          "output_type": "execute_result",
          "data": {
            "text/plain": [
              "'\\nThe ^ operator compares each bit and set it to 1 if only one is 1, otherwise (if both are 1 or both are 0) it is set to 0:\\n6 = 0000000000000110\\n3 = 0000000000000011\\n--------------------\\n5 = 0000000000000101\\n'"
            ],
            "application/vnd.google.colaboratory.intrinsic+json": {
              "type": "string"
            }
          },
          "metadata": {},
          "execution_count": 20
        }
      ]
    },
    {
      "cell_type": "code",
      "source": [
        "print(~3)\n",
        "\"\"\"\n",
        "The ~ operator inverts each bit (0 becomes 1 and 1 becomes 0).\n",
        "Inverted 3 becomes -4:\n",
        " 3 = 0000000000000011\n",
        "-4 = 1111111111111100\n",
        "Decimal numbers and their binary values:\n",
        " 4 = 0000000000000100\n",
        " 3 = 0000000000000011\n",
        " 2 = 0000000000000010\n",
        " 1 = 0000000000000001\n",
        " 0 = 0000000000000000\n",
        "-1 = 1111111111111111\n",
        "-2 = 1111111111111110\n",
        "-3 = 1111111111111101\n",
        "-4 = 1111111111111100\n",
        "\"\"\"\n"
      ],
      "metadata": {
        "colab": {
          "base_uri": "https://localhost:8080/",
          "height": 87
        },
        "id": "zuLysYcmSpA4",
        "outputId": "e41b158c-c568-4ace-d120-ec5087666ad8"
      },
      "execution_count": 21,
      "outputs": [
        {
          "output_type": "stream",
          "name": "stdout",
          "text": [
            "-4\n"
          ]
        },
        {
          "output_type": "execute_result",
          "data": {
            "text/plain": [
              "'\\nThe ~ operator inverts each bit (0 becomes 1 and 1 becomes 0).\\nInverted 3 becomes -4:\\n 3 = 0000000000000011\\n-4 = 1111111111111100\\nDecimal numbers and their binary values:\\n 4 = 0000000000000100\\n 3 = 0000000000000011\\n 2 = 0000000000000010\\n 1 = 0000000000000001\\n 0 = 0000000000000000\\n-1 = 1111111111111111\\n-2 = 1111111111111110\\n-3 = 1111111111111101\\n-4 = 1111111111111100\\n'"
            ],
            "application/vnd.google.colaboratory.intrinsic+json": {
              "type": "string"
            }
          },
          "metadata": {},
          "execution_count": 21
        }
      ]
    },
    {
      "cell_type": "code",
      "source": [
        "print(3 << 2)\n",
        "\"\"\"\n",
        "The << operator inserts the specified number of 0's (in this case 2) from the right and let the same amount of leftmost bits fall off:\n",
        "If you push 00 in from the left:\n",
        " 3 = 0000000000000011\n",
        "becomes\n",
        "12 = 0000000000001100\n",
        "Decimal numbers and their binary values:\n",
        " 8 = 0000000000001000\n",
        " 9 = 0000000000001001\n",
        "10 = 0000000000001010\n",
        "11 = 0000000000001011\n",
        "12 = 0000000000001100\n",
        "\"\"\""
      ],
      "metadata": {
        "colab": {
          "base_uri": "https://localhost:8080/",
          "height": 87
        },
        "id": "2Z4RbEtrS0ND",
        "outputId": "e9a5dd2e-a219-41ae-901d-2100b7f4bb4d"
      },
      "execution_count": 23,
      "outputs": [
        {
          "output_type": "stream",
          "name": "stdout",
          "text": [
            "12\n"
          ]
        },
        {
          "output_type": "execute_result",
          "data": {
            "text/plain": [
              "\"\\nThe << operator inserts the specified number of 0's (in this case 2) from the right and let the same amount of leftmost bits fall off:\\nIf you push 00 in from the left:\\n 3 = 0000000000000011\\nbecomes\\n12 = 0000000000001100\\nDecimal numbers and their binary values:\\n 8 = 0000000000001000\\n 9 = 0000000000001001\\n10 = 0000000000001010\\n11 = 0000000000001011\\n12 = 0000000000001100\\n\""
            ],
            "application/vnd.google.colaboratory.intrinsic+json": {
              "type": "string"
            }
          },
          "metadata": {},
          "execution_count": 23
        }
      ]
    },
    {
      "cell_type": "code",
      "source": [
        "print(8 >> 2)\n",
        "\"\"\"\n",
        "The >> operator moves each bit the specified number of times to the right. Empty holes at the left are filled with 0's.\n",
        "If you move each bit 2 times to the right, 8 becomes 2:\n",
        " 8 = 0000000000001000\n",
        "becomes\n",
        " 2 = 0000000000000010\n",
        "\"\"\""
      ],
      "metadata": {
        "colab": {
          "base_uri": "https://localhost:8080/",
          "height": 70
        },
        "id": "stpkSlIgS8t0",
        "outputId": "5322d5a3-3d32-4d28-9ccf-01969ebf2d21"
      },
      "execution_count": 24,
      "outputs": [
        {
          "output_type": "stream",
          "name": "stdout",
          "text": [
            "2\n"
          ]
        },
        {
          "output_type": "execute_result",
          "data": {
            "text/plain": [
              "\"\\nThe >> operator moves each bit the specified number of times to the right. Empty holes at the left are filled with 0's.\\nIf you move each bit 2 times to the right, 8 becomes 2:\\n 8 = 0000000000001000\\nbecomes\\n 2 = 0000000000000010\\n\""
            ],
            "application/vnd.google.colaboratory.intrinsic+json": {
              "type": "string"
            }
          },
          "metadata": {},
          "execution_count": 24
        }
      ]
    }
  ]
}