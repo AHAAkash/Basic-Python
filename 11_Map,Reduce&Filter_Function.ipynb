{
  "nbformat": 4,
  "nbformat_minor": 0,
  "metadata": {
    "colab": {
      "provenance": [],
      "authorship_tag": "ABX9TyNaY7pG9QdcufiqJyQqOVjF",
      "include_colab_link": true
    },
    "kernelspec": {
      "name": "python3",
      "display_name": "Python 3"
    },
    "language_info": {
      "name": "python"
    }
  },
  "cells": [
    {
      "cell_type": "markdown",
      "metadata": {
        "id": "view-in-github",
        "colab_type": "text"
      },
      "source": [
        "<a href=\"https://colab.research.google.com/github/AHAAkash/Basic-Python/blob/main/11_Map%2CReduce%26Filter_Function.ipynb\" target=\"_parent\"><img src=\"https://colab.research.google.com/assets/colab-badge.svg\" alt=\"Open In Colab\"/></a>"
      ]
    },
    {
      "cell_type": "markdown",
      "source": [
        "# Map, Reduce & Filter\n",
        "**Area of a circle**\n"
      ],
      "metadata": {
        "id": "uWNHEw2bpO89"
      }
    },
    {
      "cell_type": "code",
      "execution_count": 1,
      "metadata": {
        "id": "b1cR_pxxdpCk"
      },
      "outputs": [],
      "source": [
        "import math\n",
        "def area(r):\n",
        "    return math.pi*(r**2)\n",
        "\n",
        "radii = [1,2,3,4,5]\n",
        "areas = []\n",
        "for r in radii:\n",
        "    a = area(r)\n",
        "    areas.append(a)"
      ]
    },
    {
      "cell_type": "code",
      "source": [
        "print(areas)"
      ],
      "metadata": {
        "colab": {
          "base_uri": "https://localhost:8080/"
        },
        "id": "gxxjYEObqWV9",
        "outputId": "1865a67f-619d-43ad-8c5f-0b2ef4358f87"
      },
      "execution_count": 2,
      "outputs": [
        {
          "output_type": "stream",
          "name": "stdout",
          "text": [
            "[3.141592653589793, 12.566370614359172, 28.274333882308138, 50.26548245743669, 78.53981633974483]\n"
          ]
        }
      ]
    },
    {
      "cell_type": "markdown",
      "source": [
        "# map(f,iterable object)"
      ],
      "metadata": {
        "id": "yujGsi3tqiEs"
      }
    },
    {
      "cell_type": "code",
      "source": [
        "map(area, radii)  #created mao() function"
      ],
      "metadata": {
        "colab": {
          "base_uri": "https://localhost:8080/"
        },
        "id": "DgZjHUV1qYsr",
        "outputId": "fb1c9ef1-d0af-4eac-8851-e491d1930387"
      },
      "execution_count": 3,
      "outputs": [
        {
          "output_type": "execute_result",
          "data": {
            "text/plain": [
              "<map at 0x7b98d7d2f9a0>"
            ]
          },
          "metadata": {},
          "execution_count": 3
        }
      ]
    },
    {
      "cell_type": "code",
      "source": [
        "list(map(area, radii))"
      ],
      "metadata": {
        "colab": {
          "base_uri": "https://localhost:8080/"
        },
        "id": "sMRtDk9Iqx6c",
        "outputId": "e2995e5b-030f-47b9-8e33-e00de615a769"
      },
      "execution_count": 4,
      "outputs": [
        {
          "output_type": "execute_result",
          "data": {
            "text/plain": [
              "[3.141592653589793,\n",
              " 12.566370614359172,\n",
              " 28.274333882308138,\n",
              " 50.26548245743669,\n",
              " 78.53981633974483]"
            ]
          },
          "metadata": {},
          "execution_count": 4
        }
      ]
    },
    {
      "cell_type": "markdown",
      "source": [
        "# Convert Celcius scale to Farheneit\n",
        "F = 9/5*C + 32"
      ],
      "metadata": {
        "id": "7MDNUAGJt_5r"
      }
    },
    {
      "cell_type": "code",
      "source": [
        "temps = [(\"Dhaka\", 35), (\"Berlin\", 12), (\"Tokyo\", 25), (\"Hong Kong\", 31), (\"Sydney\", 30), (\"Abu Dhabi\", 35)]\n",
        "cel_to_f = lambda data:(data[0], (9/5)*data[1]+32)\n",
        "list(map(cel_to_f, temps))"
      ],
      "metadata": {
        "colab": {
          "base_uri": "https://localhost:8080/"
        },
        "id": "TKf68XZKuBrS",
        "outputId": "a75f23b2-bfea-4a17-e079-0ab6dba85440"
      },
      "execution_count": 5,
      "outputs": [
        {
          "output_type": "execute_result",
          "data": {
            "text/plain": [
              "[('Dhaka', 95.0),\n",
              " ('Berlin', 53.6),\n",
              " ('Tokyo', 77.0),\n",
              " ('Hong Kong', 87.80000000000001),\n",
              " ('Sydney', 86.0),\n",
              " ('Abu Dhabi', 95.0)]"
            ]
          },
          "metadata": {},
          "execution_count": 5
        }
      ]
    },
    {
      "cell_type": "markdown",
      "source": [
        "# Filter Function - filters out the data\n",
        "filter(f, data)"
      ],
      "metadata": {
        "id": "imLY5H5Yu0uZ"
      }
    },
    {
      "cell_type": "code",
      "source": [
        "import statistics\n",
        "data = [1,2,3,4,5,6,7,8,9,10]\n",
        "avg = statistics.mean(data)\n",
        "print(avg)"
      ],
      "metadata": {
        "colab": {
          "base_uri": "https://localhost:8080/"
        },
        "id": "zUpgOXmau2ix",
        "outputId": "b67e80c8-55d8-4a65-fe16-4c881b3a7f8f"
      },
      "execution_count": 6,
      "outputs": [
        {
          "output_type": "stream",
          "name": "stdout",
          "text": [
            "5.5\n"
          ]
        }
      ]
    },
    {
      "cell_type": "code",
      "source": [
        "filter(lambda x:x>avg, data)"
      ],
      "metadata": {
        "colab": {
          "base_uri": "https://localhost:8080/"
        },
        "id": "Fkn2livSvWcy",
        "outputId": "5030a10b-d2f4-4ba6-e272-af3cad887c8e"
      },
      "execution_count": 7,
      "outputs": [
        {
          "output_type": "execute_result",
          "data": {
            "text/plain": [
              "<filter at 0x7b98d6a90160>"
            ]
          },
          "metadata": {},
          "execution_count": 7
        }
      ]
    },
    {
      "cell_type": "code",
      "source": [
        "list(filter(lambda x:x>avg, data))"
      ],
      "metadata": {
        "colab": {
          "base_uri": "https://localhost:8080/"
        },
        "id": "eXdDcWCMvZHZ",
        "outputId": "ce1b1452-5c18-42f5-f6c2-2220d34172f5"
      },
      "execution_count": 8,
      "outputs": [
        {
          "output_type": "execute_result",
          "data": {
            "text/plain": [
              "[6, 7, 8, 9, 10]"
            ]
          },
          "metadata": {},
          "execution_count": 8
        }
      ]
    },
    {
      "cell_type": "code",
      "source": [
        "name = [\"Ravi\", \"Shyam\", \"Ram\", 0, 0.0, \"\", \"Kuber\"]\n",
        "filter(None, name)\n",
        "list(filter(None, name))"
      ],
      "metadata": {
        "colab": {
          "base_uri": "https://localhost:8080/"
        },
        "id": "9MmR-styw2y6",
        "outputId": "d7092ad1-8295-4e54-f559-8a31eadcdb8e"
      },
      "execution_count": 9,
      "outputs": [
        {
          "output_type": "execute_result",
          "data": {
            "text/plain": [
              "['Ravi', 'Shyam', 'Ram', 'Kuber']"
            ]
          },
          "metadata": {},
          "execution_count": 9
        }
      ]
    },
    {
      "cell_type": "code",
      "source": [
        "number = [12, 15, 20, 0, 0.0]\n",
        "list(filter(None, number))  #Filter function reduce filter function"
      ],
      "metadata": {
        "colab": {
          "base_uri": "https://localhost:8080/"
        },
        "id": "tZmP8AjHw8jZ",
        "outputId": "d25c9051-f840-4a5d-a39e-25256d83c021"
      },
      "execution_count": 11,
      "outputs": [
        {
          "output_type": "execute_result",
          "data": {
            "text/plain": [
              "[12, 15, 20]"
            ]
          },
          "metadata": {},
          "execution_count": 11
        }
      ]
    },
    {
      "cell_type": "markdown",
      "source": [
        "# Reduce Function\n",
        "reduce(f, data)"
      ],
      "metadata": {
        "id": "HXhOPUfKz1fa"
      }
    },
    {
      "cell_type": "code",
      "source": [
        "from functools import reduce"
      ],
      "metadata": {
        "id": "_fPqYQ4kzzBa"
      },
      "execution_count": null,
      "outputs": []
    },
    {
      "cell_type": "code",
      "source": [
        "from functools import reduce\n",
        "\n",
        "data = [1,2,3,4,5]\n",
        "multiplier = lambda x,y: x*y\n",
        "reduce(multiplier, data)"
      ],
      "metadata": {
        "colab": {
          "base_uri": "https://localhost:8080/"
        },
        "id": "G0fT8bWSz5Vh",
        "outputId": "990288b2-3858-4f90-ea3b-7ce9925c4f2f"
      },
      "execution_count": 13,
      "outputs": [
        {
          "output_type": "execute_result",
          "data": {
            "text/plain": [
              "120"
            ]
          },
          "metadata": {},
          "execution_count": 13
        }
      ]
    }
  ]
}