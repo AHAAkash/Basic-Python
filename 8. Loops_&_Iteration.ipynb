{
  "nbformat": 4,
  "nbformat_minor": 0,
  "metadata": {
    "colab": {
      "provenance": [],
      "authorship_tag": "ABX9TyN07pvwmO3COaHXGwus8fRA",
      "include_colab_link": true
    },
    "kernelspec": {
      "name": "python3",
      "display_name": "Python 3"
    },
    "language_info": {
      "name": "python"
    }
  },
  "cells": [
    {
      "cell_type": "markdown",
      "metadata": {
        "id": "view-in-github",
        "colab_type": "text"
      },
      "source": [
        "<a href=\"https://colab.research.google.com/github/AHAAkash/Basic-Python/blob/main/Loops_%26_Iteration.ipynb\" target=\"_parent\"><img src=\"https://colab.research.google.com/assets/colab-badge.svg\" alt=\"Open In Colab\"/></a>"
      ]
    },
    {
      "cell_type": "markdown",
      "source": [
        "# Loops & Iteration\n",
        "Loops\n",
        "Check whether a number is even or odd"
      ],
      "metadata": {
        "id": "dkdV9csbZOlK"
      }
    },
    {
      "cell_type": "code",
      "execution_count": 1,
      "metadata": {
        "colab": {
          "base_uri": "https://localhost:8080/"
        },
        "id": "9ue6M-gTUHMY",
        "outputId": "d0d8b155-f4dc-4c83-fe4f-b4ce15a2d664"
      },
      "outputs": [
        {
          "output_type": "stream",
          "name": "stdout",
          "text": [
            "101 is an Odd number\n"
          ]
        }
      ],
      "source": [
        "#Check whether a number is even or odd\n",
        "x = 101\n",
        "\n",
        "if x % 2 == 0:\n",
        "    print(x, \"is an Even number\")\n",
        "else:\n",
        "    print(x, \"is an Odd number\")"
      ]
    },
    {
      "cell_type": "code",
      "source": [
        "x = int(input(\"Enter your age: \"))\n",
        "\n",
        "if x % 2 == 0:\n",
        "    print(x, \"is an Even number\")\n",
        "else:\n",
        "    print(x, \"is an Odd number\")"
      ],
      "metadata": {
        "colab": {
          "base_uri": "https://localhost:8080/"
        },
        "id": "fTg5eIYhZZmV",
        "outputId": "2b622ab6-9021-4bda-fdd5-ed1b822646c7"
      },
      "execution_count": 2,
      "outputs": [
        {
          "output_type": "stream",
          "name": "stdout",
          "text": [
            "Enter your age: 24\n",
            "24 is an Even number\n"
          ]
        }
      ]
    },
    {
      "cell_type": "markdown",
      "source": [
        "**< 18 & > 50 are not allowed for the party. --> 18 or above and 50 and below are allowed for the party.**"
      ],
      "metadata": {
        "id": "wab9OkMyZj4z"
      }
    },
    {
      "cell_type": "code",
      "source": [
        "x = int(input(\"Enter your age: \"))\n",
        "\n",
        "if x < 18 or x > 50:\n",
        "    print(\"Sorry!! You are not allowed for the party\")\n",
        "else:\n",
        "    print(\"Welcome to the party\")"
      ],
      "metadata": {
        "colab": {
          "base_uri": "https://localhost:8080/"
        },
        "id": "2HAIyx4xZgd-",
        "outputId": "bcaccbf0-72b7-48d9-9a0c-31759a5200f0"
      },
      "execution_count": 3,
      "outputs": [
        {
          "output_type": "stream",
          "name": "stdout",
          "text": [
            "Enter your age: 24\n",
            "Welcome to the party\n"
          ]
        }
      ]
    },
    {
      "cell_type": "code",
      "source": [
        "# Program which offers various discounts on purchase bills\n",
        "shop_total = int(input(\"Input your billed amount: \"))\n",
        "\n",
        "if shop_total >=5000:\n",
        "    print(\"You have won a voucher of Rs. 1000/-\")\n",
        "elif shop_total >=2500:\n",
        "    print(\"You have won a voucher of Rs. 500/-\")\n",
        "else:\n",
        "    print(\"OOPS!! No discount for you!!\")"
      ],
      "metadata": {
        "colab": {
          "base_uri": "https://localhost:8080/"
        },
        "id": "8C5OjHC1aIfQ",
        "outputId": "65426eb1-9941-4d76-fb67-ba350bdcff8e"
      },
      "execution_count": 4,
      "outputs": [
        {
          "output_type": "stream",
          "name": "stdout",
          "text": [
            "Input your billed amount: 4999\n",
            "You have won a voucher of Rs. 500/-\n"
          ]
        }
      ]
    },
    {
      "cell_type": "markdown",
      "source": [
        "# Iteration"
      ],
      "metadata": {
        "id": "xvnJ1S3ZaVxv"
      }
    },
    {
      "cell_type": "code",
      "source": [
        "list_1 = [10,20,30,40,50]\n",
        "for num in list_1:\n",
        "    print(num)"
      ],
      "metadata": {
        "colab": {
          "base_uri": "https://localhost:8080/"
        },
        "id": "pa0a3z4TaSwG",
        "outputId": "aa3ed57a-14c1-4067-f378-f725c72d82ae"
      },
      "execution_count": 5,
      "outputs": [
        {
          "output_type": "stream",
          "name": "stdout",
          "text": [
            "10\n",
            "20\n",
            "30\n",
            "40\n",
            "50\n"
          ]
        }
      ]
    },
    {
      "cell_type": "code",
      "source": [
        "#Iterate over a String\n",
        "str_1 = \"Ahad Hosen Akash\"\n",
        "for ch in str_1:\n",
        "    print(ch)"
      ],
      "metadata": {
        "colab": {
          "base_uri": "https://localhost:8080/"
        },
        "id": "EN00a3yoaaTk",
        "outputId": "215d8297-aa0f-43bc-e2e7-d042905ca07b"
      },
      "execution_count": 6,
      "outputs": [
        {
          "output_type": "stream",
          "name": "stdout",
          "text": [
            "A\n",
            "h\n",
            "a\n",
            "d\n",
            " \n",
            "H\n",
            "o\n",
            "s\n",
            "e\n",
            "n\n",
            " \n",
            "A\n",
            "k\n",
            "a\n",
            "s\n",
            "h\n"
          ]
        }
      ]
    },
    {
      "cell_type": "code",
      "source": [
        "#Iterate over a dictionary\n",
        "students_data = {1: ['Sam', 25], 2:['Sharma',28], 3:['Ravi',22], 4:['Sid',23], 5:['Varun',24]}\n",
        "for key,val in students_data.items():\n",
        "    print(val)"
      ],
      "metadata": {
        "colab": {
          "base_uri": "https://localhost:8080/"
        },
        "id": "8-ECLjE4ajsW",
        "outputId": "e5a69239-bfb0-438b-e329-c42489e3e9b7"
      },
      "execution_count": 7,
      "outputs": [
        {
          "output_type": "stream",
          "name": "stdout",
          "text": [
            "['Sam', 25]\n",
            "['Sharma', 28]\n",
            "['Ravi', 22]\n",
            "['Sid', 23]\n",
            "['Varun', 24]\n"
          ]
        }
      ]
    },
    {
      "cell_type": "code",
      "source": [
        "for key in students_data.keys():\n",
        "    print(key)"
      ],
      "metadata": {
        "colab": {
          "base_uri": "https://localhost:8080/"
        },
        "id": "W9KQVBFmare0",
        "outputId": "ce6d8565-4231-4a69-e12a-7daa3b42aba9"
      },
      "execution_count": 8,
      "outputs": [
        {
          "output_type": "stream",
          "name": "stdout",
          "text": [
            "1\n",
            "2\n",
            "3\n",
            "4\n",
            "5\n"
          ]
        }
      ]
    },
    {
      "cell_type": "code",
      "source": [
        "#Iterate over a range of values\n",
        "for i in range(1,5):\n",
        "    print(i)"
      ],
      "metadata": {
        "colab": {
          "base_uri": "https://localhost:8080/"
        },
        "id": "0YlPdYGOaxW2",
        "outputId": "b1b85687-2705-4487-987e-6623b16e180a"
      },
      "execution_count": 9,
      "outputs": [
        {
          "output_type": "stream",
          "name": "stdout",
          "text": [
            "1\n",
            "2\n",
            "3\n",
            "4\n"
          ]
        }
      ]
    },
    {
      "cell_type": "markdown",
      "source": [
        "# Comprehensions"
      ],
      "metadata": {
        "id": "a4bAOHR9a3-m"
      }
    },
    {
      "cell_type": "code",
      "source": [
        "list_1 = [\"Automobiles\", \"Honda\", \"Benz\", \"Maruti\", \"Kia\"]\n",
        "list_2 = []\n",
        "for i in list_1:\n",
        "    list_2.append(i)\n",
        "\n",
        "print(list_2)"
      ],
      "metadata": {
        "colab": {
          "base_uri": "https://localhost:8080/"
        },
        "id": "i4n2Z6ama6cv",
        "outputId": "c944140c-6c5b-4509-c251-2ed3f2cec7e6"
      },
      "execution_count": 10,
      "outputs": [
        {
          "output_type": "stream",
          "name": "stdout",
          "text": [
            "['Automobiles', 'Honda', 'Benz', 'Maruti', 'Kia']\n"
          ]
        }
      ]
    },
    {
      "cell_type": "code",
      "source": [
        "# Iterate over a list of strings and append the length of each string to a new list\n",
        "list_1 = [\"Automobiles\", \"Honda\", \"Benz\", \"Maruti\", \"Kia\"]\n",
        "list_2 = []\n",
        "for i in list_1:\n",
        "    list_2.append(len(i))\n",
        "\n",
        "print(list_2)"
      ],
      "metadata": {
        "colab": {
          "base_uri": "https://localhost:8080/"
        },
        "id": "z1PJIffXbEOU",
        "outputId": "e395c648-dbfa-4ac2-9e42-73ae3191a210"
      },
      "execution_count": 12,
      "outputs": [
        {
          "output_type": "stream",
          "name": "stdout",
          "text": [
            "[11, 5, 4, 6, 3]\n"
          ]
        }
      ]
    }
  ]
}
