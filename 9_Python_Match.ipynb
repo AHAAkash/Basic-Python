{
  "nbformat": 4,
  "nbformat_minor": 0,
  "metadata": {
    "colab": {
      "provenance": [],
      "authorship_tag": "ABX9TyPY2Y1MV585zih1pSkRsna+",
      "include_colab_link": true
    },
    "kernelspec": {
      "name": "python3",
      "display_name": "Python 3"
    },
    "language_info": {
      "name": "python"
    }
  },
  "cells": [
    {
      "cell_type": "markdown",
      "metadata": {
        "id": "view-in-github",
        "colab_type": "text"
      },
      "source": [
        "<a href=\"https://colab.research.google.com/github/AHAAkash/Basic-Python/blob/main/9_Python_Match.ipynb\" target=\"_parent\"><img src=\"https://colab.research.google.com/assets/colab-badge.svg\" alt=\"Open In Colab\"/></a>"
      ]
    },
    {
      "cell_type": "markdown",
      "source": [
        "# The Python Match Statement\n",
        "Instead of writing many if..else statements, you can use the match statement.\n",
        "\n",
        "The match statement selects one of many code blocks to be executed."
      ],
      "metadata": {
        "id": "eK6Ipdy7LMEA"
      }
    },
    {
      "cell_type": "code",
      "execution_count": null,
      "metadata": {
        "id": "0KFU9GuDK1We"
      },
      "outputs": [],
      "source": [
        "# Syntax\n",
        "match expression:\n",
        "  case x:\n",
        "    code block\n",
        "  case y:\n",
        "    code block\n",
        "  case z:\n",
        "    code block"
      ]
    },
    {
      "cell_type": "markdown",
      "source": [
        "# This is how it works:\n",
        "\n",
        "The match expression is evaluated once.\n",
        "The value of the expression is compared with the values of each case.\n",
        "If there is a match, the associated block of code is executed."
      ],
      "metadata": {
        "id": "9xoyLY6wLmBF"
      }
    },
    {
      "cell_type": "code",
      "source": [
        "#print the weekday name:\n",
        "day = 4\n",
        "match day:\n",
        "  case 1:\n",
        "    print(\"Monday\")\n",
        "  case 2:\n",
        "    print(\"Tuesday\")\n",
        "  case 3:\n",
        "    print(\"Wednesday\")\n",
        "  case 4:\n",
        "    print(\"Thursday\")\n",
        "  case 5:\n",
        "    print(\"Friday\")\n",
        "  case 6:\n",
        "    print(\"Saturday\")\n",
        "  case 7:\n",
        "    print(\"Sunday\")"
      ],
      "metadata": {
        "colab": {
          "base_uri": "https://localhost:8080/"
        },
        "id": "OCryKkkwLicH",
        "outputId": "d0c46e6f-d5c7-4b1e-9f81-f8dc5ec8d7bb"
      },
      "execution_count": 1,
      "outputs": [
        {
          "output_type": "stream",
          "name": "stdout",
          "text": [
            "Thursday\n"
          ]
        }
      ]
    },
    {
      "cell_type": "markdown",
      "source": [
        "# Default Value\n",
        "Use the underscore character _ as the last case value if you want a code block to execute when there are not other matches:"
      ],
      "metadata": {
        "id": "fHUYamygMYSd"
      }
    },
    {
      "cell_type": "code",
      "source": [
        "day = 4\n",
        "match day:\n",
        "  case 6:\n",
        "    print(\"Today is Saturday\")\n",
        "  case 7:\n",
        "    print(\"Today is Sunday\")\n",
        "  case _:\n",
        "    print(\"Looking forward to the Weekend\")"
      ],
      "metadata": {
        "colab": {
          "base_uri": "https://localhost:8080/"
        },
        "id": "x_N_xybbLoKV",
        "outputId": "ea89792e-1c4b-4818-990b-3a52f645ce27"
      },
      "execution_count": 2,
      "outputs": [
        {
          "output_type": "stream",
          "name": "stdout",
          "text": [
            "Looking forward to the Weekend\n"
          ]
        }
      ]
    },
    {
      "cell_type": "markdown",
      "source": [
        "# Combine Values\n",
        "Use the pipe character | as an or operator in the case evaluation to check for more than one value match in one case:"
      ],
      "metadata": {
        "id": "uJHGziRaMhaV"
      }
    },
    {
      "cell_type": "code",
      "source": [
        "day = 4\n",
        "match day:\n",
        "  case 1 | 2 | 3 | 4 | 5:\n",
        "    print(\"Today is a weekday\")\n",
        "  case 6 | 7:\n",
        "    print(\"I love weekends!\")"
      ],
      "metadata": {
        "colab": {
          "base_uri": "https://localhost:8080/"
        },
        "id": "s4JcasBSMjIN",
        "outputId": "cdc1702c-c26a-491c-da05-b9b8fcc3dcb5"
      },
      "execution_count": 3,
      "outputs": [
        {
          "output_type": "stream",
          "name": "stdout",
          "text": [
            "Today is a weekday\n"
          ]
        }
      ]
    },
    {
      "cell_type": "markdown",
      "source": [
        "# If Statements as Guards\n",
        "You can add if statements in the case evaluation as an extra condition-check:"
      ],
      "metadata": {
        "id": "r_YPOyzWMqS5"
      }
    },
    {
      "cell_type": "code",
      "source": [
        "month = 5\n",
        "day = 4\n",
        "match day:\n",
        "  case 1 | 2 | 3 | 4 | 5 if month == 4:\n",
        "    print(\"A weekday in April\")\n",
        "  case 1 | 2 | 3 | 4 | 5 if month == 5:\n",
        "    print(\"A weekday in May\")\n",
        "  case _:\n",
        "    print(\"No match\")"
      ],
      "metadata": {
        "colab": {
          "base_uri": "https://localhost:8080/"
        },
        "id": "pWlBbbC9Mr5_",
        "outputId": "71fb24c6-0b44-42be-acf0-48fb6c6fe81e"
      },
      "execution_count": 4,
      "outputs": [
        {
          "output_type": "stream",
          "name": "stdout",
          "text": [
            "A weekday in May\n"
          ]
        }
      ]
    }
  ]
}